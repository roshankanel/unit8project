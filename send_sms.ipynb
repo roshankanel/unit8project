{
 "cells": [
  {
   "cell_type": "code",
   "execution_count": 1,
   "id": "32144103-5b2b-48cb-95d6-ff7219a1ad72",
   "metadata": {},
   "outputs": [],
   "source": [
    "# before using this make sure you run pip install \"pip install clicksend-client\" and \"pip install phonenumbers\"\n",
    "from __future__ import print_function\n",
    "import os\n",
    "import clicksend_client\n",
    "from clicksend_client import SmsMessage\n",
    "from clicksend_client.rest import ApiException\n",
    "from dotenv import load_dotenv\n",
    "import phonenumbers\n",
    "from phonenumbers import carrier\n",
    "from phonenumbers.phonenumberutil import number_type"
   ]
  },
  {
   "cell_type": "code",
   "execution_count": 2,
   "id": "aec9c828-db28-43ae-b003-a4d38108f1df",
   "metadata": {},
   "outputs": [
    {
     "data": {
      "text/plain": [
       "True"
      ]
     },
     "execution_count": 2,
     "metadata": {},
     "output_type": "execute_result"
    }
   ],
   "source": [
    "# Load .env enviroment variables\n",
    "load_dotenv()"
   ]
  },
  {
   "cell_type": "code",
   "execution_count": 3,
   "id": "059e4590-003e-4746-b220-ce5907846c72",
   "metadata": {},
   "outputs": [
    {
     "name": "stdout",
     "output_type": "stream",
     "text": [
      "<class 'str'>\n",
      "<class 'str'>\n"
     ]
    }
   ],
   "source": [
    "click_send_user_name = os.getenv(\"CLICK_SEND_USER_NAME\")\n",
    "click_send_api_key = os.getenv(\"CLICK_SEND_API_KEY\")\n",
    "\n",
    "print(type(click_send_user_name))\n",
    "print(type(click_send_api_key))"
   ]
  },
  {
   "cell_type": "code",
   "execution_count": 10,
   "id": "4d1f0f6d-8dcf-4e08-a89d-de06eab3e877",
   "metadata": {},
   "outputs": [
    {
     "name": "stdout",
     "output_type": "stream",
     "text": [
      "Enter your mobile number:\n"
     ]
    },
    {
     "name": "stdin",
     "output_type": "stream",
     "text": [
      " 0406718438\n"
     ]
    },
    {
     "name": "stdout",
     "output_type": "stream",
     "text": [
      "{'http_code': 200, 'response_code': 'SUCCESS', 'response_msg': 'Messages queued for delivery.', 'data': {'total_price': 0.077, 'total_count': 1, 'queued_count': 1, 'messages': [{'direction': 'out', 'date': 1683807444, 'to': '+61406718438', 'body': 'Crypto Protfolio Sms Send example.', 'from': 'Teams', 'schedule': 1436874701, 'message_id': '666AB71E-119E-42DB-AEDC-362B6E93BCED', 'message_parts': 1, 'message_price': '0.0770', 'from_email': None, 'list_id': None, 'custom_string': '', 'contact_id': None, 'user_id': 420344, 'subaccount_id': 476523, 'is_shared_system_number': True, 'country': 'AU', 'carrier': 'Vodafone', 'status': 'SUCCESS'}], '_currency': {'currency_name_short': 'AUD', 'currency_prefix_d': '$', 'currency_prefix_c': 'c', 'currency_name_long': 'Australian Dollars'}}}\n"
     ]
    }
   ],
   "source": [
    "# Configure HTTP basic authorization: BasicAuth\n",
    "configuration = clicksend_client.Configuration()\n",
    "configuration.username = click_send_user_name\n",
    "configuration.password = click_send_api_key\n",
    "\n",
    "# create an instance of the API class\n",
    "api_instance = clicksend_client.SMSApi(clicksend_client.ApiClient(configuration))\n",
    "\n",
    "# ask for the number\n",
    "print('Enter your mobile number:')\n",
    "mobile_no = input()\n",
    "valid_mobile = False\n",
    "try:\n",
    "    parsed_mobile_no = phonenumbers.parse(mobile_no, \"AU\")\n",
    "    valid_mobile = True\n",
    "except:\n",
    "    valid_mobile = False\n",
    "\n",
    "if (valid_mobile == True & phonenumbers.is_valid_number(parsed_mobile_no)  == True):\n",
    "    sendSms()\n",
    "else:\n",
    "    print(\"Invalid Number\")\n",
    "\n",
    "    \n",
    "    \n"
   ]
  },
  {
   "cell_type": "code",
   "execution_count": null,
   "id": "51ff3511-b321-413a-9f90-8b1d1f6a73fd",
   "metadata": {},
   "outputs": [],
   "source": [
    "\n"
   ]
  }
 ],
 "metadata": {
  "kernelspec": {
   "display_name": "Python 3 (ipykernel)",
   "language": "python",
   "name": "python3"
  },
  "language_info": {
   "codemirror_mode": {
    "name": "ipython",
    "version": 3
   },
   "file_extension": ".py",
   "mimetype": "text/x-python",
   "name": "python",
   "nbconvert_exporter": "python",
   "pygments_lexer": "ipython3",
   "version": "3.7.13"
  }
 },
 "nbformat": 4,
 "nbformat_minor": 5
}
