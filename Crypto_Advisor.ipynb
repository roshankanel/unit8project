{
 "cells": [
  {
   "cell_type": "code",
   "execution_count": null,
   "id": "9de3f425-b6c8-4896-a683-3c0c6753d390",
   "metadata": {},
   "outputs": [],
   "source": [
    "# Load libraries and dependencies\n",
    "import os\n",
    "import numpy as np\n",
    "import pandas as pd\n",
    "import matplotlib.pyplot as plt\n",
    "import hvplot.pandas\n",
    "# import alpaca_trade_api as tradeapi --> might not be needed\n",
    "from MCForecastTools import MCSimulation\n",
    "\n",
    "%matplotlib inline\n",
    "\n",
    "# This is a new library not used previously in the class\n",
    "\n"
   ]
  },
  {
   "cell_type": "code",
   "execution_count": null,
   "id": "c6d56201-5afe-4697-af43-224073c6ba00",
   "metadata": {},
   "outputs": [],
   "source": [
    "# Call APIs\n",
    "from dotenv import load_dotenv\n",
    "load_dotenv()\n",
    "\n",
    "\n",
    "\n"
   ]
  },
  {
   "cell_type": "code",
   "execution_count": null,
   "id": "47494470-7cda-4f78-811b-be1051780e99",
   "metadata": {},
   "outputs": [],
   "source": [
    "# Define variables\n",
    "# Set the ticker\n",
    "crypto_tickers = []\n",
    "\n",
    "# Set timeframe to \"1Day\"\n",
    "timeframe = \"1Day\"\n",
    "\n",
    "# Set start and end datetimes\n",
    "start_date =\n",
    "end_date ="
   ]
  },
  {
   "cell_type": "code",
   "execution_count": null,
   "id": "6cc37262-4abf-45fe-aedb-dfca6671a384",
   "metadata": {},
   "outputs": [],
   "source": [
    "# Pull data into DataFrames\n",
    "\n"
   ]
  },
  {
   "cell_type": "code",
   "execution_count": null,
   "id": "54c731df-591c-4a47-9f34-77b7223e96dc",
   "metadata": {},
   "outputs": [],
   "source": [
    "# Clean data\n",
    "\n"
   ]
  },
  {
   "cell_type": "code",
   "execution_count": null,
   "id": "96208505-ffde-4766-a765-5bf34d8a9f81",
   "metadata": {},
   "outputs": [],
   "source": [
    "# Take input parameters for Monte Carlo simulations\n",
    "ticker_data = api.get_bars(\n",
    "    ticker,\n",
    "    timeframe,\n",
    "    start=start_date,\n",
    "    end=end_date\n",
    ").df\n"
   ]
  },
  {
   "cell_type": "code",
   "execution_count": null,
   "id": "f3c88737-fd94-4981-bbae-5bdfb23efc60",
   "metadata": {},
   "outputs": [],
   "source": [
    "# Set up Monte Carlo Simulations\n",
    "\n",
    "# Set number of simulations\n",
    "num_sims = 500\n",
    "\n",
    "# Configure a Monte Carlo simulation to forecast one year daily returns\n",
    "# Since Crypto can be traded every day the number of trading days is equal to 365\n",
    "crypto_sim = MCSimulation(\n",
    "    portfolio_data = ticker_data,\n",
    "    num_simulation = num_sims,\n",
    "    num_trading_days = 365\n",
    ")"
   ]
  },
  {
   "cell_type": "code",
   "execution_count": null,
   "id": "bad103e1-715d-4903-b45c-732b17e5adf9",
   "metadata": {},
   "outputs": [],
   "source": [
    "# Perform Monte Carlo simulations\n",
    "crypto_sim.calc_cumulative_return()\n",
    "\n"
   ]
  },
  {
   "cell_type": "code",
   "execution_count": null,
   "id": "41349381-4355-46f5-b1dd-81c7a4f7f3a5",
   "metadata": {},
   "outputs": [],
   "source": [
    "# Display outputs\n",
    "line_plot = crypto_sim.plot_simulation()\n"
   ]
  },
  {
   "cell_type": "code",
   "execution_count": null,
   "id": "8cf556a7-3bce-48c3-8167-5e9219b2b68e",
   "metadata": {},
   "outputs": [],
   "source": [
    "# Visualise data - at least 8 variations needed\n",
    "\n",
    "\n"
   ]
  },
  {
   "cell_type": "code",
   "execution_count": null,
   "id": "e4513487-3b3e-42d6-90c4-097380e769f1",
   "metadata": {},
   "outputs": [],
   "source": []
  },
  {
   "cell_type": "code",
   "execution_count": null,
   "id": "cd2d888c-af53-4112-a5e6-72bf6d174be9",
   "metadata": {},
   "outputs": [],
   "source": []
  },
  {
   "cell_type": "code",
   "execution_count": null,
   "id": "90bfd20f-e2c3-4dad-8c78-bb40630ee6e2",
   "metadata": {},
   "outputs": [],
   "source": []
  },
  {
   "cell_type": "code",
   "execution_count": null,
   "id": "229f068e-9c9f-40b1-bb77-4746e581cbde",
   "metadata": {},
   "outputs": [],
   "source": []
  },
  {
   "cell_type": "code",
   "execution_count": null,
   "id": "4c78196a-781e-45ed-9c5f-13e5cf62d74e",
   "metadata": {},
   "outputs": [],
   "source": []
  }
 ],
 "metadata": {
  "kernelspec": {
   "display_name": "Python 3 (ipykernel)",
   "language": "python",
   "name": "python3"
  },
  "language_info": {
   "codemirror_mode": {
    "name": "ipython",
    "version": 3
   },
   "file_extension": ".py",
   "mimetype": "text/x-python",
   "name": "python",
   "nbconvert_exporter": "python",
   "pygments_lexer": "ipython3",
   "version": "3.7.13"
  }
 },
 "nbformat": 4,
 "nbformat_minor": 5
}
