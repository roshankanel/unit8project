{
 "cells": [
  {
   "cell_type": "code",
   "execution_count": 4,
   "id": "9de3f425-b6c8-4896-a683-3c0c6753d390",
   "metadata": {},
   "outputs": [],
   "source": [
    "# Load libraries and dependencies\n",
    "import os\n",
    "import numpy as np\n",
    "import pandas as pd\n",
    "import matplotlib.pyplot as plt\n",
    "import hvplot.pandas\n",
    "# import alpaca_trade_api as tradeapi --> might not be needed\n",
    "\n",
    "\n",
    "%matplotlib inline\n",
    "\n",
    "# This is a new library not used previously in the class\n",
    "import yfinance as yf\n",
    "from datetime import datetime, timedelta\n",
    "from sklearn.ensemble import RandomForestClassifier\n",
    "from sklearn.metrics import precision_score\n"
   ]
  },
  {
   "cell_type": "code",
   "execution_count": 76,
   "id": "2d8b8d6c-a0a9-4317-a6c9-d8148d1ad3b2",
   "metadata": {},
   "outputs": [
    {
     "name": "stdout",
     "output_type": "stream",
     "text": [
      "2023-05-12\n",
      "2018-05-12\n"
     ]
    }
   ],
   "source": [
    "# end_date is yesterday, start_date is 5 years before end date\n",
    "today = datetime.now()\n",
    "end_delta = timedelta(days=1)\n",
    "end_date = (today - end_delta).strftime('%Y-%m-%d')\n",
    "start_delta = timedelta(days=1826)\n",
    "start_date = ((today - end_delta) - start_delta).strftime('%Y-%m-%d')\n",
    "print(end_date)\n",
    "print(start_date)"
   ]
  },
  {
   "cell_type": "code",
   "execution_count": 77,
   "id": "f76de8e4-1d54-43e5-9877-37284fea862d",
   "metadata": {},
   "outputs": [
    {
     "data": {
      "text/html": [
       "<div>\n",
       "<style scoped>\n",
       "    .dataframe tbody tr th:only-of-type {\n",
       "        vertical-align: middle;\n",
       "    }\n",
       "\n",
       "    .dataframe tbody tr th {\n",
       "        vertical-align: top;\n",
       "    }\n",
       "\n",
       "    .dataframe thead th {\n",
       "        text-align: right;\n",
       "    }\n",
       "</style>\n",
       "<table border=\"1\" class=\"dataframe\">\n",
       "  <thead>\n",
       "    <tr style=\"text-align: right;\">\n",
       "      <th></th>\n",
       "      <th>Open</th>\n",
       "      <th>High</th>\n",
       "      <th>Low</th>\n",
       "      <th>Close</th>\n",
       "      <th>Volume</th>\n",
       "      <th>Dividends</th>\n",
       "      <th>Stock Splits</th>\n",
       "    </tr>\n",
       "    <tr>\n",
       "      <th>Date</th>\n",
       "      <th></th>\n",
       "      <th></th>\n",
       "      <th></th>\n",
       "      <th></th>\n",
       "      <th></th>\n",
       "      <th></th>\n",
       "      <th></th>\n",
       "    </tr>\n",
       "  </thead>\n",
       "  <tbody>\n",
       "    <tr>\n",
       "      <th>2018-05-12 00:00:00+00:00</th>\n",
       "      <td>8441.440430</td>\n",
       "      <td>8664.860352</td>\n",
       "      <td>8223.500000</td>\n",
       "      <td>8504.889648</td>\n",
       "      <td>6821380096</td>\n",
       "      <td>0.0</td>\n",
       "      <td>0.0</td>\n",
       "    </tr>\n",
       "    <tr>\n",
       "      <th>2018-05-13 00:00:00+00:00</th>\n",
       "      <td>8515.490234</td>\n",
       "      <td>8773.549805</td>\n",
       "      <td>8395.120117</td>\n",
       "      <td>8723.940430</td>\n",
       "      <td>5866379776</td>\n",
       "      <td>0.0</td>\n",
       "      <td>0.0</td>\n",
       "    </tr>\n",
       "    <tr>\n",
       "      <th>2018-05-14 00:00:00+00:00</th>\n",
       "      <td>8713.099609</td>\n",
       "      <td>8881.120117</td>\n",
       "      <td>8367.969727</td>\n",
       "      <td>8716.790039</td>\n",
       "      <td>7364149760</td>\n",
       "      <td>0.0</td>\n",
       "      <td>0.0</td>\n",
       "    </tr>\n",
       "    <tr>\n",
       "      <th>2018-05-15 00:00:00+00:00</th>\n",
       "      <td>8705.190430</td>\n",
       "      <td>8836.190430</td>\n",
       "      <td>8456.450195</td>\n",
       "      <td>8510.379883</td>\n",
       "      <td>6705710080</td>\n",
       "      <td>0.0</td>\n",
       "      <td>0.0</td>\n",
       "    </tr>\n",
       "    <tr>\n",
       "      <th>2018-05-16 00:00:00+00:00</th>\n",
       "      <td>8504.410156</td>\n",
       "      <td>8508.429688</td>\n",
       "      <td>8175.490234</td>\n",
       "      <td>8368.830078</td>\n",
       "      <td>6760220160</td>\n",
       "      <td>0.0</td>\n",
       "      <td>0.0</td>\n",
       "    </tr>\n",
       "  </tbody>\n",
       "</table>\n",
       "</div>"
      ],
      "text/plain": [
       "                                  Open         High          Low        Close  \\\n",
       "Date                                                                            \n",
       "2018-05-12 00:00:00+00:00  8441.440430  8664.860352  8223.500000  8504.889648   \n",
       "2018-05-13 00:00:00+00:00  8515.490234  8773.549805  8395.120117  8723.940430   \n",
       "2018-05-14 00:00:00+00:00  8713.099609  8881.120117  8367.969727  8716.790039   \n",
       "2018-05-15 00:00:00+00:00  8705.190430  8836.190430  8456.450195  8510.379883   \n",
       "2018-05-16 00:00:00+00:00  8504.410156  8508.429688  8175.490234  8368.830078   \n",
       "\n",
       "                               Volume  Dividends  Stock Splits  \n",
       "Date                                                            \n",
       "2018-05-12 00:00:00+00:00  6821380096        0.0           0.0  \n",
       "2018-05-13 00:00:00+00:00  5866379776        0.0           0.0  \n",
       "2018-05-14 00:00:00+00:00  7364149760        0.0           0.0  \n",
       "2018-05-15 00:00:00+00:00  6705710080        0.0           0.0  \n",
       "2018-05-16 00:00:00+00:00  6760220160        0.0           0.0  "
      ]
     },
     "execution_count": 77,
     "metadata": {},
     "output_type": "execute_result"
    }
   ],
   "source": [
    "# Get BTC-USD data and create dataframe\n",
    "BTC = yf.Ticker(\"BTC-USD\")\n",
    "BTC_df = BTC.history(start = start_date, end = end_date)\n",
    "BTC_df.head()"
   ]
  },
  {
   "cell_type": "code",
   "execution_count": 83,
   "id": "7bcc0da1-5eb3-4721-9d6f-0e7a82d64a8f",
   "metadata": {},
   "outputs": [
    {
     "ename": "KeyError",
     "evalue": "\"['Dividends' 'Stock Splits'] not found in axis\"",
     "output_type": "error",
     "traceback": [
      "\u001b[1;31m---------------------------------------------------------------------------\u001b[0m",
      "\u001b[1;31mKeyError\u001b[0m                                  Traceback (most recent call last)",
      "\u001b[1;32m~\\AppData\\Local\\Temp\\ipykernel_27332\\3274022087.py\u001b[0m in \u001b[0;36m<module>\u001b[1;34m\u001b[0m\n\u001b[0;32m      1\u001b[0m \u001b[1;31m# Drop unwanted columns and cleanup data by dropping NAs and Duplicates\u001b[0m\u001b[1;33m\u001b[0m\u001b[1;33m\u001b[0m\u001b[1;33m\u001b[0m\u001b[0m\n\u001b[1;32m----> 2\u001b[1;33m \u001b[0mBTC_df\u001b[0m\u001b[1;33m.\u001b[0m\u001b[0mdrop\u001b[0m\u001b[1;33m(\u001b[0m\u001b[0mcolumns\u001b[0m \u001b[1;33m=\u001b[0m \u001b[1;33m[\u001b[0m\u001b[1;34m\"Dividends\"\u001b[0m\u001b[1;33m,\u001b[0m\u001b[1;34m\"Stock Splits\"\u001b[0m\u001b[1;33m]\u001b[0m\u001b[1;33m,\u001b[0m \u001b[0minplace\u001b[0m \u001b[1;33m=\u001b[0m \u001b[1;32mTrue\u001b[0m\u001b[1;33m)\u001b[0m\u001b[1;33m\u001b[0m\u001b[1;33m\u001b[0m\u001b[0m\n\u001b[0m\u001b[0;32m      3\u001b[0m \u001b[0mBTC_df\u001b[0m\u001b[1;33m.\u001b[0m\u001b[0mdropna\u001b[0m\u001b[1;33m(\u001b[0m\u001b[0minplace\u001b[0m \u001b[1;33m=\u001b[0m \u001b[1;32mTrue\u001b[0m\u001b[1;33m)\u001b[0m\u001b[1;33m\u001b[0m\u001b[1;33m\u001b[0m\u001b[0m\n\u001b[0;32m      4\u001b[0m \u001b[0mBTC_df\u001b[0m\u001b[1;33m.\u001b[0m\u001b[0mdrop_duplicates\u001b[0m\u001b[1;33m(\u001b[0m\u001b[0minplace\u001b[0m \u001b[1;33m=\u001b[0m \u001b[1;32mTrue\u001b[0m\u001b[1;33m)\u001b[0m\u001b[1;33m\u001b[0m\u001b[1;33m\u001b[0m\u001b[0m\n\u001b[0;32m      5\u001b[0m \u001b[0mBTC_df\u001b[0m\u001b[1;33m.\u001b[0m\u001b[0mhead\u001b[0m\u001b[1;33m(\u001b[0m\u001b[1;33m)\u001b[0m\u001b[1;33m\u001b[0m\u001b[1;33m\u001b[0m\u001b[0m\n",
      "\u001b[1;32m~\\anaconda3\\envs\\dev\\lib\\site-packages\\pandas\\util\\_decorators.py\u001b[0m in \u001b[0;36mwrapper\u001b[1;34m(*args, **kwargs)\u001b[0m\n\u001b[0;32m    309\u001b[0m                     \u001b[0mstacklevel\u001b[0m\u001b[1;33m=\u001b[0m\u001b[0mstacklevel\u001b[0m\u001b[1;33m,\u001b[0m\u001b[1;33m\u001b[0m\u001b[1;33m\u001b[0m\u001b[0m\n\u001b[0;32m    310\u001b[0m                 )\n\u001b[1;32m--> 311\u001b[1;33m             \u001b[1;32mreturn\u001b[0m \u001b[0mfunc\u001b[0m\u001b[1;33m(\u001b[0m\u001b[1;33m*\u001b[0m\u001b[0margs\u001b[0m\u001b[1;33m,\u001b[0m \u001b[1;33m**\u001b[0m\u001b[0mkwargs\u001b[0m\u001b[1;33m)\u001b[0m\u001b[1;33m\u001b[0m\u001b[1;33m\u001b[0m\u001b[0m\n\u001b[0m\u001b[0;32m    312\u001b[0m \u001b[1;33m\u001b[0m\u001b[0m\n\u001b[0;32m    313\u001b[0m         \u001b[1;32mreturn\u001b[0m \u001b[0mwrapper\u001b[0m\u001b[1;33m\u001b[0m\u001b[1;33m\u001b[0m\u001b[0m\n",
      "\u001b[1;32m~\\anaconda3\\envs\\dev\\lib\\site-packages\\pandas\\core\\frame.py\u001b[0m in \u001b[0;36mdrop\u001b[1;34m(self, labels, axis, index, columns, level, inplace, errors)\u001b[0m\n\u001b[0;32m   4911\u001b[0m             \u001b[0mlevel\u001b[0m\u001b[1;33m=\u001b[0m\u001b[0mlevel\u001b[0m\u001b[1;33m,\u001b[0m\u001b[1;33m\u001b[0m\u001b[1;33m\u001b[0m\u001b[0m\n\u001b[0;32m   4912\u001b[0m             \u001b[0minplace\u001b[0m\u001b[1;33m=\u001b[0m\u001b[0minplace\u001b[0m\u001b[1;33m,\u001b[0m\u001b[1;33m\u001b[0m\u001b[1;33m\u001b[0m\u001b[0m\n\u001b[1;32m-> 4913\u001b[1;33m             \u001b[0merrors\u001b[0m\u001b[1;33m=\u001b[0m\u001b[0merrors\u001b[0m\u001b[1;33m,\u001b[0m\u001b[1;33m\u001b[0m\u001b[1;33m\u001b[0m\u001b[0m\n\u001b[0m\u001b[0;32m   4914\u001b[0m         )\n\u001b[0;32m   4915\u001b[0m \u001b[1;33m\u001b[0m\u001b[0m\n",
      "\u001b[1;32m~\\anaconda3\\envs\\dev\\lib\\site-packages\\pandas\\core\\generic.py\u001b[0m in \u001b[0;36mdrop\u001b[1;34m(self, labels, axis, index, columns, level, inplace, errors)\u001b[0m\n\u001b[0;32m   4148\u001b[0m         \u001b[1;32mfor\u001b[0m \u001b[0maxis\u001b[0m\u001b[1;33m,\u001b[0m \u001b[0mlabels\u001b[0m \u001b[1;32min\u001b[0m \u001b[0maxes\u001b[0m\u001b[1;33m.\u001b[0m\u001b[0mitems\u001b[0m\u001b[1;33m(\u001b[0m\u001b[1;33m)\u001b[0m\u001b[1;33m:\u001b[0m\u001b[1;33m\u001b[0m\u001b[1;33m\u001b[0m\u001b[0m\n\u001b[0;32m   4149\u001b[0m             \u001b[1;32mif\u001b[0m \u001b[0mlabels\u001b[0m \u001b[1;32mis\u001b[0m \u001b[1;32mnot\u001b[0m \u001b[1;32mNone\u001b[0m\u001b[1;33m:\u001b[0m\u001b[1;33m\u001b[0m\u001b[1;33m\u001b[0m\u001b[0m\n\u001b[1;32m-> 4150\u001b[1;33m                 \u001b[0mobj\u001b[0m \u001b[1;33m=\u001b[0m \u001b[0mobj\u001b[0m\u001b[1;33m.\u001b[0m\u001b[0m_drop_axis\u001b[0m\u001b[1;33m(\u001b[0m\u001b[0mlabels\u001b[0m\u001b[1;33m,\u001b[0m \u001b[0maxis\u001b[0m\u001b[1;33m,\u001b[0m \u001b[0mlevel\u001b[0m\u001b[1;33m=\u001b[0m\u001b[0mlevel\u001b[0m\u001b[1;33m,\u001b[0m \u001b[0merrors\u001b[0m\u001b[1;33m=\u001b[0m\u001b[0merrors\u001b[0m\u001b[1;33m)\u001b[0m\u001b[1;33m\u001b[0m\u001b[1;33m\u001b[0m\u001b[0m\n\u001b[0m\u001b[0;32m   4151\u001b[0m \u001b[1;33m\u001b[0m\u001b[0m\n\u001b[0;32m   4152\u001b[0m         \u001b[1;32mif\u001b[0m \u001b[0minplace\u001b[0m\u001b[1;33m:\u001b[0m\u001b[1;33m\u001b[0m\u001b[1;33m\u001b[0m\u001b[0m\n",
      "\u001b[1;32m~\\anaconda3\\envs\\dev\\lib\\site-packages\\pandas\\core\\generic.py\u001b[0m in \u001b[0;36m_drop_axis\u001b[1;34m(self, labels, axis, level, errors)\u001b[0m\n\u001b[0;32m   4183\u001b[0m                 \u001b[0mnew_axis\u001b[0m \u001b[1;33m=\u001b[0m \u001b[0maxis\u001b[0m\u001b[1;33m.\u001b[0m\u001b[0mdrop\u001b[0m\u001b[1;33m(\u001b[0m\u001b[0mlabels\u001b[0m\u001b[1;33m,\u001b[0m \u001b[0mlevel\u001b[0m\u001b[1;33m=\u001b[0m\u001b[0mlevel\u001b[0m\u001b[1;33m,\u001b[0m \u001b[0merrors\u001b[0m\u001b[1;33m=\u001b[0m\u001b[0merrors\u001b[0m\u001b[1;33m)\u001b[0m\u001b[1;33m\u001b[0m\u001b[1;33m\u001b[0m\u001b[0m\n\u001b[0;32m   4184\u001b[0m             \u001b[1;32melse\u001b[0m\u001b[1;33m:\u001b[0m\u001b[1;33m\u001b[0m\u001b[1;33m\u001b[0m\u001b[0m\n\u001b[1;32m-> 4185\u001b[1;33m                 \u001b[0mnew_axis\u001b[0m \u001b[1;33m=\u001b[0m \u001b[0maxis\u001b[0m\u001b[1;33m.\u001b[0m\u001b[0mdrop\u001b[0m\u001b[1;33m(\u001b[0m\u001b[0mlabels\u001b[0m\u001b[1;33m,\u001b[0m \u001b[0merrors\u001b[0m\u001b[1;33m=\u001b[0m\u001b[0merrors\u001b[0m\u001b[1;33m)\u001b[0m\u001b[1;33m\u001b[0m\u001b[1;33m\u001b[0m\u001b[0m\n\u001b[0m\u001b[0;32m   4186\u001b[0m             \u001b[0mresult\u001b[0m \u001b[1;33m=\u001b[0m \u001b[0mself\u001b[0m\u001b[1;33m.\u001b[0m\u001b[0mreindex\u001b[0m\u001b[1;33m(\u001b[0m\u001b[1;33m**\u001b[0m\u001b[1;33m{\u001b[0m\u001b[0maxis_name\u001b[0m\u001b[1;33m:\u001b[0m \u001b[0mnew_axis\u001b[0m\u001b[1;33m}\u001b[0m\u001b[1;33m)\u001b[0m\u001b[1;33m\u001b[0m\u001b[1;33m\u001b[0m\u001b[0m\n\u001b[0;32m   4187\u001b[0m \u001b[1;33m\u001b[0m\u001b[0m\n",
      "\u001b[1;32m~\\anaconda3\\envs\\dev\\lib\\site-packages\\pandas\\core\\indexes\\base.py\u001b[0m in \u001b[0;36mdrop\u001b[1;34m(self, labels, errors)\u001b[0m\n\u001b[0;32m   6015\u001b[0m         \u001b[1;32mif\u001b[0m \u001b[0mmask\u001b[0m\u001b[1;33m.\u001b[0m\u001b[0many\u001b[0m\u001b[1;33m(\u001b[0m\u001b[1;33m)\u001b[0m\u001b[1;33m:\u001b[0m\u001b[1;33m\u001b[0m\u001b[1;33m\u001b[0m\u001b[0m\n\u001b[0;32m   6016\u001b[0m             \u001b[1;32mif\u001b[0m \u001b[0merrors\u001b[0m \u001b[1;33m!=\u001b[0m \u001b[1;34m\"ignore\"\u001b[0m\u001b[1;33m:\u001b[0m\u001b[1;33m\u001b[0m\u001b[1;33m\u001b[0m\u001b[0m\n\u001b[1;32m-> 6017\u001b[1;33m                 \u001b[1;32mraise\u001b[0m \u001b[0mKeyError\u001b[0m\u001b[1;33m(\u001b[0m\u001b[1;34mf\"{labels[mask]} not found in axis\"\u001b[0m\u001b[1;33m)\u001b[0m\u001b[1;33m\u001b[0m\u001b[1;33m\u001b[0m\u001b[0m\n\u001b[0m\u001b[0;32m   6018\u001b[0m             \u001b[0mindexer\u001b[0m \u001b[1;33m=\u001b[0m \u001b[0mindexer\u001b[0m\u001b[1;33m[\u001b[0m\u001b[1;33m~\u001b[0m\u001b[0mmask\u001b[0m\u001b[1;33m]\u001b[0m\u001b[1;33m\u001b[0m\u001b[1;33m\u001b[0m\u001b[0m\n\u001b[0;32m   6019\u001b[0m         \u001b[1;32mreturn\u001b[0m \u001b[0mself\u001b[0m\u001b[1;33m.\u001b[0m\u001b[0mdelete\u001b[0m\u001b[1;33m(\u001b[0m\u001b[0mindexer\u001b[0m\u001b[1;33m)\u001b[0m\u001b[1;33m\u001b[0m\u001b[1;33m\u001b[0m\u001b[0m\n",
      "\u001b[1;31mKeyError\u001b[0m: \"['Dividends' 'Stock Splits'] not found in axis\""
     ]
    }
   ],
   "source": [
    "# Drop unwanted columns and cleanup data by dropping NAs and Duplicates\n",
    "BTC_df.drop(columns = [\"Dividends\",\"Stock Splits\"], inplace = True)\n",
    "BTC_df.dropna(inplace = True)\n",
    "BTC_df.drop_duplicates(inplace = True)\n",
    "BTC_df.head()"
   ]
  },
  {
   "cell_type": "code",
   "execution_count": 80,
   "id": "57675828-ab1f-443a-9540-cf35c54227e1",
   "metadata": {},
   "outputs": [
    {
     "data": {
      "image/png": "[encoded data removed]",
      "text/plain": [
       "<Figure size 640x480 with 1 Axes>"
      ]
     },
     "metadata": {},
     "output_type": "display_data"
    }
   ],
   "source": [
    "# Plot BTC close prices\n",
    "BTC_df.plot.line(y = \"Close\", use_index=True, title = \"BTC-USD movements for last 5 years\", color = \"navy\");"
   ]
  },
  {
   "cell_type": "code",
   "execution_count": 81,
   "id": "622c0779-7561-4963-acb7-3ccb72227f6d",
   "metadata": {
    "tags": []
   },
   "outputs": [
    {
     "data": {
      "text/html": [
       "<div>\n",
       "<style scoped>\n",
       "    .dataframe tbody tr th:only-of-type {\n",
       "        vertical-align: middle;\n",
       "    }\n",
       "\n",
       "    .dataframe tbody tr th {\n",
       "        vertical-align: top;\n",
       "    }\n",
       "\n",
       "    .dataframe thead th {\n",
       "        text-align: right;\n",
       "    }\n",
       "</style>\n",
       "<table border=\"1\" class=\"dataframe\">\n",
       "  <thead>\n",
       "    <tr style=\"text-align: right;\">\n",
       "      <th></th>\n",
       "      <th>Open</th>\n",
       "      <th>High</th>\n",
       "      <th>Low</th>\n",
       "      <th>Close</th>\n",
       "      <th>Volume</th>\n",
       "      <th>Dividends</th>\n",
       "      <th>Stock Splits</th>\n",
       "    </tr>\n",
       "    <tr>\n",
       "      <th>Date</th>\n",
       "      <th></th>\n",
       "      <th></th>\n",
       "      <th></th>\n",
       "      <th></th>\n",
       "      <th></th>\n",
       "      <th></th>\n",
       "      <th></th>\n",
       "    </tr>\n",
       "  </thead>\n",
       "  <tbody>\n",
       "    <tr>\n",
       "      <th>2018-05-12 00:00:00+00:00</th>\n",
       "      <td>679.877014</td>\n",
       "      <td>691.411011</td>\n",
       "      <td>644.065979</td>\n",
       "      <td>686.047974</td>\n",
       "      <td>2668480000</td>\n",
       "      <td>0.0</td>\n",
       "      <td>0.0</td>\n",
       "    </tr>\n",
       "    <tr>\n",
       "      <th>2018-05-13 00:00:00+00:00</th>\n",
       "      <td>687.174988</td>\n",
       "      <td>741.312012</td>\n",
       "      <td>675.318970</td>\n",
       "      <td>733.495972</td>\n",
       "      <td>2362500096</td>\n",
       "      <td>0.0</td>\n",
       "      <td>0.0</td>\n",
       "    </tr>\n",
       "    <tr>\n",
       "      <th>2018-05-14 00:00:00+00:00</th>\n",
       "      <td>732.732971</td>\n",
       "      <td>742.169983</td>\n",
       "      <td>695.791992</td>\n",
       "      <td>730.549011</td>\n",
       "      <td>3005110016</td>\n",
       "      <td>0.0</td>\n",
       "      <td>0.0</td>\n",
       "    </tr>\n",
       "    <tr>\n",
       "      <th>2018-05-15 00:00:00+00:00</th>\n",
       "      <td>731.143005</td>\n",
       "      <td>739.052002</td>\n",
       "      <td>700.994995</td>\n",
       "      <td>708.870972</td>\n",
       "      <td>2523069952</td>\n",
       "      <td>0.0</td>\n",
       "      <td>0.0</td>\n",
       "    </tr>\n",
       "    <tr>\n",
       "      <th>2018-05-16 00:00:00+00:00</th>\n",
       "      <td>708.086975</td>\n",
       "      <td>710.200012</td>\n",
       "      <td>682.541016</td>\n",
       "      <td>707.049988</td>\n",
       "      <td>2476130048</td>\n",
       "      <td>0.0</td>\n",
       "      <td>0.0</td>\n",
       "    </tr>\n",
       "  </tbody>\n",
       "</table>\n",
       "</div>"
      ],
      "text/plain": [
       "                                 Open        High         Low       Close  \\\n",
       "Date                                                                        \n",
       "2018-05-12 00:00:00+00:00  679.877014  691.411011  644.065979  686.047974   \n",
       "2018-05-13 00:00:00+00:00  687.174988  741.312012  675.318970  733.495972   \n",
       "2018-05-14 00:00:00+00:00  732.732971  742.169983  695.791992  730.549011   \n",
       "2018-05-15 00:00:00+00:00  731.143005  739.052002  700.994995  708.870972   \n",
       "2018-05-16 00:00:00+00:00  708.086975  710.200012  682.541016  707.049988   \n",
       "\n",
       "                               Volume  Dividends  Stock Splits  \n",
       "Date                                                            \n",
       "2018-05-12 00:00:00+00:00  2668480000        0.0           0.0  \n",
       "2018-05-13 00:00:00+00:00  2362500096        0.0           0.0  \n",
       "2018-05-14 00:00:00+00:00  3005110016        0.0           0.0  \n",
       "2018-05-15 00:00:00+00:00  2523069952        0.0           0.0  \n",
       "2018-05-16 00:00:00+00:00  2476130048        0.0           0.0  "
      ]
     },
     "execution_count": 81,
     "metadata": {},
     "output_type": "execute_result"
    }
   ],
   "source": [
    "# Get ETH-USD data and create dataframe\n",
    "ETH = yf.Ticker(\"ETH-USD\")\n",
    "ETH_df = ETH.history(start = start_date, end = end_date)\n",
    "ETH_df.head()"
   ]
  },
  {
   "cell_type": "code",
   "execution_count": 82,
   "id": "fab4a218-ae72-45b1-9e40-158e304b1e68",
   "metadata": {
    "tags": []
   },
   "outputs": [
    {
     "data": {
      "text/html": [
       "<div>\n",
       "<style scoped>\n",
       "    .dataframe tbody tr th:only-of-type {\n",
       "        vertical-align: middle;\n",
       "    }\n",
       "\n",
       "    .dataframe tbody tr th {\n",
       "        vertical-align: top;\n",
       "    }\n",
       "\n",
       "    .dataframe thead th {\n",
       "        text-align: right;\n",
       "    }\n",
       "</style>\n",
       "<table border=\"1\" class=\"dataframe\">\n",
       "  <thead>\n",
       "    <tr style=\"text-align: right;\">\n",
       "      <th></th>\n",
       "      <th>Open</th>\n",
       "      <th>High</th>\n",
       "      <th>Low</th>\n",
       "      <th>Close</th>\n",
       "      <th>Volume</th>\n",
       "    </tr>\n",
       "    <tr>\n",
       "      <th>Date</th>\n",
       "      <th></th>\n",
       "      <th></th>\n",
       "      <th></th>\n",
       "      <th></th>\n",
       "      <th></th>\n",
       "    </tr>\n",
       "  </thead>\n",
       "  <tbody>\n",
       "    <tr>\n",
       "      <th>2018-05-12 00:00:00+00:00</th>\n",
       "      <td>679.877014</td>\n",
       "      <td>691.411011</td>\n",
       "      <td>644.065979</td>\n",
       "      <td>686.047974</td>\n",
       "      <td>2668480000</td>\n",
       "    </tr>\n",
       "    <tr>\n",
       "      <th>2018-05-13 00:00:00+00:00</th>\n",
       "      <td>687.174988</td>\n",
       "      <td>741.312012</td>\n",
       "      <td>675.318970</td>\n",
       "      <td>733.495972</td>\n",
       "      <td>2362500096</td>\n",
       "    </tr>\n",
       "    <tr>\n",
       "      <th>2018-05-14 00:00:00+00:00</th>\n",
       "      <td>732.732971</td>\n",
       "      <td>742.169983</td>\n",
       "      <td>695.791992</td>\n",
       "      <td>730.549011</td>\n",
       "      <td>3005110016</td>\n",
       "    </tr>\n",
       "    <tr>\n",
       "      <th>2018-05-15 00:00:00+00:00</th>\n",
       "      <td>731.143005</td>\n",
       "      <td>739.052002</td>\n",
       "      <td>700.994995</td>\n",
       "      <td>708.870972</td>\n",
       "      <td>2523069952</td>\n",
       "    </tr>\n",
       "    <tr>\n",
       "      <th>2018-05-16 00:00:00+00:00</th>\n",
       "      <td>708.086975</td>\n",
       "      <td>710.200012</td>\n",
       "      <td>682.541016</td>\n",
       "      <td>707.049988</td>\n",
       "      <td>2476130048</td>\n",
       "    </tr>\n",
       "  </tbody>\n",
       "</table>\n",
       "</div>"
      ],
      "text/plain": [
       "                                 Open        High         Low       Close  \\\n",
       "Date                                                                        \n",
       "2018-05-12 00:00:00+00:00  679.877014  691.411011  644.065979  686.047974   \n",
       "2018-05-13 00:00:00+00:00  687.174988  741.312012  675.318970  733.495972   \n",
       "2018-05-14 00:00:00+00:00  732.732971  742.169983  695.791992  730.549011   \n",
       "2018-05-15 00:00:00+00:00  731.143005  739.052002  700.994995  708.870972   \n",
       "2018-05-16 00:00:00+00:00  708.086975  710.200012  682.541016  707.049988   \n",
       "\n",
       "                               Volume  \n",
       "Date                                   \n",
       "2018-05-12 00:00:00+00:00  2668480000  \n",
       "2018-05-13 00:00:00+00:00  2362500096  \n",
       "2018-05-14 00:00:00+00:00  3005110016  \n",
       "2018-05-15 00:00:00+00:00  2523069952  \n",
       "2018-05-16 00:00:00+00:00  2476130048  "
      ]
     },
     "execution_count": 82,
     "metadata": {},
     "output_type": "execute_result"
    }
   ],
   "source": [
    "# Drop unwanted columns and cleanup data by dropping NAs and Duplicates\n",
    "ETH_df.drop(columns = [\"Dividends\",\"Stock Splits\"], inplace = True)\n",
    "ETH_df.dropna(inplace = True)\n",
    "ETH_df.drop_duplicates(inplace = True)\n",
    "ETH_df.head()"
   ]
  },
  {
   "cell_type": "code",
   "execution_count": 16,
   "id": "61320d76-24e3-4afb-bc7c-fc13b0d05e01",
   "metadata": {},
   "outputs": [
    {
     "data": {
      "image/png": "[encoded data removed]",
      "text/plain": [
       "<Figure size 640x480 with 1 Axes>"
      ]
     },
     "metadata": {},
     "output_type": "display_data"
    }
   ],
   "source": [
    "# Plot ETH close prices\n",
    "ETH_df.plot.line(y = \"Close\", use_index=True, title = \"ETH-USD movements for last 5 years\", color = \"green\");"
   ]
  },
  {
   "cell_type": "code",
   "execution_count": 17,
   "id": "94c2c78f-813d-4494-aaad-fab0eb60162e",
   "metadata": {
    "tags": []
   },
   "outputs": [
    {
     "data": {
      "text/html": [
       "<div>\n",
       "<style scoped>\n",
       "    .dataframe tbody tr th:only-of-type {\n",
       "        vertical-align: middle;\n",
       "    }\n",
       "\n",
       "    .dataframe tbody tr th {\n",
       "        vertical-align: top;\n",
       "    }\n",
       "\n",
       "    .dataframe thead th {\n",
       "        text-align: right;\n",
       "    }\n",
       "</style>\n",
       "<table border=\"1\" class=\"dataframe\">\n",
       "  <thead>\n",
       "    <tr style=\"text-align: right;\">\n",
       "      <th></th>\n",
       "      <th>Open</th>\n",
       "      <th>High</th>\n",
       "      <th>Low</th>\n",
       "      <th>Close</th>\n",
       "      <th>Volume</th>\n",
       "      <th>Dividends</th>\n",
       "      <th>Stock Splits</th>\n",
       "    </tr>\n",
       "    <tr>\n",
       "      <th>Date</th>\n",
       "      <th></th>\n",
       "      <th></th>\n",
       "      <th></th>\n",
       "      <th></th>\n",
       "      <th></th>\n",
       "      <th></th>\n",
       "      <th></th>\n",
       "    </tr>\n",
       "  </thead>\n",
       "  <tbody>\n",
       "    <tr>\n",
       "      <th>2018-05-11 00:00:00+00:00</th>\n",
       "      <td>149.445007</td>\n",
       "      <td>149.445007</td>\n",
       "      <td>134.725998</td>\n",
       "      <td>137.117004</td>\n",
       "      <td>530416000</td>\n",
       "      <td>0.0</td>\n",
       "      <td>0.0</td>\n",
       "    </tr>\n",
       "    <tr>\n",
       "      <th>2018-05-12 00:00:00+00:00</th>\n",
       "      <td>137.257004</td>\n",
       "      <td>144.419006</td>\n",
       "      <td>132.587997</td>\n",
       "      <td>141.882004</td>\n",
       "      <td>410184992</td>\n",
       "      <td>0.0</td>\n",
       "      <td>0.0</td>\n",
       "    </tr>\n",
       "    <tr>\n",
       "      <th>2018-05-13 00:00:00+00:00</th>\n",
       "      <td>141.798004</td>\n",
       "      <td>147.246002</td>\n",
       "      <td>137.654999</td>\n",
       "      <td>144.587997</td>\n",
       "      <td>383224000</td>\n",
       "      <td>0.0</td>\n",
       "      <td>0.0</td>\n",
       "    </tr>\n",
       "    <tr>\n",
       "      <th>2018-05-14 00:00:00+00:00</th>\n",
       "      <td>144.623993</td>\n",
       "      <td>152.154999</td>\n",
       "      <td>136.072006</td>\n",
       "      <td>147.714005</td>\n",
       "      <td>584222016</td>\n",
       "      <td>0.0</td>\n",
       "      <td>0.0</td>\n",
       "    </tr>\n",
       "    <tr>\n",
       "      <th>2018-05-15 00:00:00+00:00</th>\n",
       "      <td>147.488007</td>\n",
       "      <td>149.382996</td>\n",
       "      <td>138.570007</td>\n",
       "      <td>139.880005</td>\n",
       "      <td>415984992</td>\n",
       "      <td>0.0</td>\n",
       "      <td>0.0</td>\n",
       "    </tr>\n",
       "  </tbody>\n",
       "</table>\n",
       "</div>"
      ],
      "text/plain": [
       "                                 Open        High         Low       Close  \\\n",
       "Date                                                                        \n",
       "2018-05-11 00:00:00+00:00  149.445007  149.445007  134.725998  137.117004   \n",
       "2018-05-12 00:00:00+00:00  137.257004  144.419006  132.587997  141.882004   \n",
       "2018-05-13 00:00:00+00:00  141.798004  147.246002  137.654999  144.587997   \n",
       "2018-05-14 00:00:00+00:00  144.623993  152.154999  136.072006  147.714005   \n",
       "2018-05-15 00:00:00+00:00  147.488007  149.382996  138.570007  139.880005   \n",
       "\n",
       "                              Volume  Dividends  Stock Splits  \n",
       "Date                                                           \n",
       "2018-05-11 00:00:00+00:00  530416000        0.0           0.0  \n",
       "2018-05-12 00:00:00+00:00  410184992        0.0           0.0  \n",
       "2018-05-13 00:00:00+00:00  383224000        0.0           0.0  \n",
       "2018-05-14 00:00:00+00:00  584222016        0.0           0.0  \n",
       "2018-05-15 00:00:00+00:00  415984992        0.0           0.0  "
      ]
     },
     "execution_count": 17,
     "metadata": {},
     "output_type": "execute_result"
    }
   ],
   "source": [
    "# Get LTC-USD data and create dataframe and convert index to date only\n",
    "LTC = yf.Ticker(\"LTC-USD\")\n",
    "LTC_df = LTC.history(start = start_date, end = end_date)\n",
    "LTC_df.head()"
   ]
  },
  {
   "cell_type": "code",
   "execution_count": 18,
   "id": "77e7bc89-debc-4c65-8636-e7445f1bd89e",
   "metadata": {
    "tags": []
   },
   "outputs": [
    {
     "data": {
      "text/html": [
       "<div>\n",
       "<style scoped>\n",
       "    .dataframe tbody tr th:only-of-type {\n",
       "        vertical-align: middle;\n",
       "    }\n",
       "\n",
       "    .dataframe tbody tr th {\n",
       "        vertical-align: top;\n",
       "    }\n",
       "\n",
       "    .dataframe thead th {\n",
       "        text-align: right;\n",
       "    }\n",
       "</style>\n",
       "<table border=\"1\" class=\"dataframe\">\n",
       "  <thead>\n",
       "    <tr style=\"text-align: right;\">\n",
       "      <th></th>\n",
       "      <th>Open</th>\n",
       "      <th>High</th>\n",
       "      <th>Low</th>\n",
       "      <th>Close</th>\n",
       "      <th>Volume</th>\n",
       "    </tr>\n",
       "    <tr>\n",
       "      <th>Date</th>\n",
       "      <th></th>\n",
       "      <th></th>\n",
       "      <th></th>\n",
       "      <th></th>\n",
       "      <th></th>\n",
       "    </tr>\n",
       "  </thead>\n",
       "  <tbody>\n",
       "    <tr>\n",
       "      <th>2018-05-11 00:00:00+00:00</th>\n",
       "      <td>149.445007</td>\n",
       "      <td>149.445007</td>\n",
       "      <td>134.725998</td>\n",
       "      <td>137.117004</td>\n",
       "      <td>530416000</td>\n",
       "    </tr>\n",
       "    <tr>\n",
       "      <th>2018-05-12 00:00:00+00:00</th>\n",
       "      <td>137.257004</td>\n",
       "      <td>144.419006</td>\n",
       "      <td>132.587997</td>\n",
       "      <td>141.882004</td>\n",
       "      <td>410184992</td>\n",
       "    </tr>\n",
       "    <tr>\n",
       "      <th>2018-05-13 00:00:00+00:00</th>\n",
       "      <td>141.798004</td>\n",
       "      <td>147.246002</td>\n",
       "      <td>137.654999</td>\n",
       "      <td>144.587997</td>\n",
       "      <td>383224000</td>\n",
       "    </tr>\n",
       "    <tr>\n",
       "      <th>2018-05-14 00:00:00+00:00</th>\n",
       "      <td>144.623993</td>\n",
       "      <td>152.154999</td>\n",
       "      <td>136.072006</td>\n",
       "      <td>147.714005</td>\n",
       "      <td>584222016</td>\n",
       "    </tr>\n",
       "    <tr>\n",
       "      <th>2018-05-15 00:00:00+00:00</th>\n",
       "      <td>147.488007</td>\n",
       "      <td>149.382996</td>\n",
       "      <td>138.570007</td>\n",
       "      <td>139.880005</td>\n",
       "      <td>415984992</td>\n",
       "    </tr>\n",
       "  </tbody>\n",
       "</table>\n",
       "</div>"
      ],
      "text/plain": [
       "                                 Open        High         Low       Close  \\\n",
       "Date                                                                        \n",
       "2018-05-11 00:00:00+00:00  149.445007  149.445007  134.725998  137.117004   \n",
       "2018-05-12 00:00:00+00:00  137.257004  144.419006  132.587997  141.882004   \n",
       "2018-05-13 00:00:00+00:00  141.798004  147.246002  137.654999  144.587997   \n",
       "2018-05-14 00:00:00+00:00  144.623993  152.154999  136.072006  147.714005   \n",
       "2018-05-15 00:00:00+00:00  147.488007  149.382996  138.570007  139.880005   \n",
       "\n",
       "                              Volume  \n",
       "Date                                  \n",
       "2018-05-11 00:00:00+00:00  530416000  \n",
       "2018-05-12 00:00:00+00:00  410184992  \n",
       "2018-05-13 00:00:00+00:00  383224000  \n",
       "2018-05-14 00:00:00+00:00  584222016  \n",
       "2018-05-15 00:00:00+00:00  415984992  "
      ]
     },
     "execution_count": 18,
     "metadata": {},
     "output_type": "execute_result"
    }
   ],
   "source": [
    "# Drop unwanted columns and cleanup data by dropping NAs and Duplicates\n",
    "LTC_df.drop(columns = [\"Dividends\",\"Stock Splits\"], inplace = True)\n",
    "LTC_df.dropna(inplace = True)\n",
    "LTC_df.drop_duplicates(inplace = True)\n",
    "LTC_df.head()"
   ]
  },
  {
   "cell_type": "code",
   "execution_count": 19,
   "id": "368d588f-5e00-4d45-9c81-07bdad9d7703",
   "metadata": {},
   "outputs": [
    {
     "data": {
      "image/png": "[encoded data removed]",
      "text/plain": [
       "<Figure size 640x480 with 1 Axes>"
      ]
     },
     "metadata": {},
     "output_type": "display_data"
    }
   ],
   "source": [
    "# Plot LTC close prices\n",
    "LTC_df.plot.line(y = \"Close\", use_index=True, title = \"LTC-USD movements for last 5 years\", color = \"orange\");"
   ]
  },
  {
   "cell_type": "code",
   "execution_count": 20,
   "id": "883e7e63-a680-48d0-9640-86681266df25",
   "metadata": {
    "tags": []
   },
   "outputs": [
    {
     "data": {
      "text/html": [
       "<div>\n",
       "<style scoped>\n",
       "    .dataframe tbody tr th:only-of-type {\n",
       "        vertical-align: middle;\n",
       "    }\n",
       "\n",
       "    .dataframe tbody tr th {\n",
       "        vertical-align: top;\n",
       "    }\n",
       "\n",
       "    .dataframe thead tr th {\n",
       "        text-align: left;\n",
       "    }\n",
       "</style>\n",
       "<table border=\"1\" class=\"dataframe\">\n",
       "  <thead>\n",
       "    <tr>\n",
       "      <th></th>\n",
       "      <th colspan=\"5\" halign=\"left\">BTC</th>\n",
       "      <th colspan=\"5\" halign=\"left\">ETH</th>\n",
       "      <th colspan=\"5\" halign=\"left\">LTC</th>\n",
       "    </tr>\n",
       "    <tr>\n",
       "      <th></th>\n",
       "      <th>Open</th>\n",
       "      <th>High</th>\n",
       "      <th>Low</th>\n",
       "      <th>Close</th>\n",
       "      <th>Volume</th>\n",
       "      <th>Open</th>\n",
       "      <th>High</th>\n",
       "      <th>Low</th>\n",
       "      <th>Close</th>\n",
       "      <th>Volume</th>\n",
       "      <th>Open</th>\n",
       "      <th>High</th>\n",
       "      <th>Low</th>\n",
       "      <th>Close</th>\n",
       "      <th>Volume</th>\n",
       "    </tr>\n",
       "  </thead>\n",
       "  <tbody>\n",
       "    <tr>\n",
       "      <th>2018-05-11</th>\n",
       "      <td>9052.959961</td>\n",
       "      <td>9052.959961</td>\n",
       "      <td>8394.459961</td>\n",
       "      <td>8441.490234</td>\n",
       "      <td>8488520192</td>\n",
       "      <td>727.013000</td>\n",
       "      <td>736.976990</td>\n",
       "      <td>669.825012</td>\n",
       "      <td>679.585999</td>\n",
       "      <td>3290080000</td>\n",
       "      <td>149.445007</td>\n",
       "      <td>149.445007</td>\n",
       "      <td>134.725998</td>\n",
       "      <td>137.117004</td>\n",
       "      <td>530416000</td>\n",
       "    </tr>\n",
       "    <tr>\n",
       "      <th>2018-05-12</th>\n",
       "      <td>8441.440430</td>\n",
       "      <td>8664.860352</td>\n",
       "      <td>8223.500000</td>\n",
       "      <td>8504.889648</td>\n",
       "      <td>6821380096</td>\n",
       "      <td>679.877014</td>\n",
       "      <td>691.411011</td>\n",
       "      <td>644.065979</td>\n",
       "      <td>686.047974</td>\n",
       "      <td>2668480000</td>\n",
       "      <td>137.257004</td>\n",
       "      <td>144.419006</td>\n",
       "      <td>132.587997</td>\n",
       "      <td>141.882004</td>\n",
       "      <td>410184992</td>\n",
       "    </tr>\n",
       "    <tr>\n",
       "      <th>2018-05-13</th>\n",
       "      <td>8515.490234</td>\n",
       "      <td>8773.549805</td>\n",
       "      <td>8395.120117</td>\n",
       "      <td>8723.940430</td>\n",
       "      <td>5866379776</td>\n",
       "      <td>687.174988</td>\n",
       "      <td>741.312012</td>\n",
       "      <td>675.318970</td>\n",
       "      <td>733.495972</td>\n",
       "      <td>2362500096</td>\n",
       "      <td>141.798004</td>\n",
       "      <td>147.246002</td>\n",
       "      <td>137.654999</td>\n",
       "      <td>144.587997</td>\n",
       "      <td>383224000</td>\n",
       "    </tr>\n",
       "    <tr>\n",
       "      <th>2018-05-14</th>\n",
       "      <td>8713.099609</td>\n",
       "      <td>8881.120117</td>\n",
       "      <td>8367.969727</td>\n",
       "      <td>8716.790039</td>\n",
       "      <td>7364149760</td>\n",
       "      <td>732.732971</td>\n",
       "      <td>742.169983</td>\n",
       "      <td>695.791992</td>\n",
       "      <td>730.549011</td>\n",
       "      <td>3005110016</td>\n",
       "      <td>144.623993</td>\n",
       "      <td>152.154999</td>\n",
       "      <td>136.072006</td>\n",
       "      <td>147.714005</td>\n",
       "      <td>584222016</td>\n",
       "    </tr>\n",
       "    <tr>\n",
       "      <th>2018-05-15</th>\n",
       "      <td>8705.190430</td>\n",
       "      <td>8836.190430</td>\n",
       "      <td>8456.450195</td>\n",
       "      <td>8510.379883</td>\n",
       "      <td>6705710080</td>\n",
       "      <td>731.143005</td>\n",
       "      <td>739.052002</td>\n",
       "      <td>700.994995</td>\n",
       "      <td>708.870972</td>\n",
       "      <td>2523069952</td>\n",
       "      <td>147.488007</td>\n",
       "      <td>149.382996</td>\n",
       "      <td>138.570007</td>\n",
       "      <td>139.880005</td>\n",
       "      <td>415984992</td>\n",
       "    </tr>\n",
       "  </tbody>\n",
       "</table>\n",
       "</div>"
      ],
      "text/plain": [
       "                    BTC                                                     \\\n",
       "                   Open         High          Low        Close      Volume   \n",
       "2018-05-11  9052.959961  9052.959961  8394.459961  8441.490234  8488520192   \n",
       "2018-05-12  8441.440430  8664.860352  8223.500000  8504.889648  6821380096   \n",
       "2018-05-13  8515.490234  8773.549805  8395.120117  8723.940430  5866379776   \n",
       "2018-05-14  8713.099609  8881.120117  8367.969727  8716.790039  7364149760   \n",
       "2018-05-15  8705.190430  8836.190430  8456.450195  8510.379883  6705710080   \n",
       "\n",
       "                   ETH                                                  \\\n",
       "                  Open        High         Low       Close      Volume   \n",
       "2018-05-11  727.013000  736.976990  669.825012  679.585999  3290080000   \n",
       "2018-05-12  679.877014  691.411011  644.065979  686.047974  2668480000   \n",
       "2018-05-13  687.174988  741.312012  675.318970  733.495972  2362500096   \n",
       "2018-05-14  732.732971  742.169983  695.791992  730.549011  3005110016   \n",
       "2018-05-15  731.143005  739.052002  700.994995  708.870972  2523069952   \n",
       "\n",
       "                   LTC                                                 \n",
       "                  Open        High         Low       Close     Volume  \n",
       "2018-05-11  149.445007  149.445007  134.725998  137.117004  530416000  \n",
       "2018-05-12  137.257004  144.419006  132.587997  141.882004  410184992  \n",
       "2018-05-13  141.798004  147.246002  137.654999  144.587997  383224000  \n",
       "2018-05-14  144.623993  152.154999  136.072006  147.714005  584222016  \n",
       "2018-05-15  147.488007  149.382996  138.570007  139.880005  415984992  "
      ]
     },
     "execution_count": 20,
     "metadata": {},
     "output_type": "execute_result"
    }
   ],
   "source": [
    "# Combine dataframes and change the index to date only format\n",
    "crypto_portfolio_df = pd.concat(\n",
    "    [BTC_df,ETH_df,LTC_df],\n",
    "    join = \"inner\",\n",
    "    axis = 1,\n",
    "    keys = [\"BTC\",\"ETH\",\"LTC\"]\n",
    ")\n",
    "\n",
    "crypto_portfolio_df.index = crypto_portfolio_df.index.date\n",
    "crypto_portfolio_df.head()"
   ]
  },
  {
   "cell_type": "code",
   "execution_count": 22,
   "id": "95bb6433-f5e0-43af-8e78-a18543bc3e89",
   "metadata": {
    "tags": []
   },
   "outputs": [
    {
     "ename": "SyntaxError",
     "evalue": "invalid syntax (3706454035.py, line 2)",
     "output_type": "error",
     "traceback": [
      "\u001b[1;36m  File \u001b[1;32m\"C:\\Users\\alexs\\AppData\\Local\\Temp\\ipykernel_27332\\3706454035.py\"\u001b[1;36m, line \u001b[1;32m2\u001b[0m\n\u001b[1;33m    crypto_portfolio_df.hvplot.bar.(\u001b[0m\n\u001b[1;37m                                   ^\u001b[0m\n\u001b[1;31mSyntaxError\u001b[0m\u001b[1;31m:\u001b[0m invalid syntax\n"
     ]
    }
   ],
   "source": [
    "# Plot combined table data as a bar graph\n",
    "crypto_portfolio_df.hvplot.bar.(\n",
    "    x='', \n",
    "    y='',\n",
    "    rot=,\n",
    "    xlabel='', \n",
    "    ylabel=''\n",
    ").opts(yformatter='%.0f', color = 'black')"
   ]
  },
  {
   "cell_type": "code",
   "execution_count": 23,
   "id": "68153a90-be72-4f25-8f35-8dd966bdb2b0",
   "metadata": {},
   "outputs": [],
   "source": [
    "# Define portfolio weighting\n",
    "BTC_weight = 0.60\n",
    "ETH_weight = 0.30\n",
    "LTC_weight = 0.10\n",
    "\n",
    "crypto_portfolio_weights = [BTC_weight, ETH_weight, LTC_weight]\n",
    "\n",
    "# Define initial investment\n",
    "initial_investment = 10000"
   ]
  },
  {
   "cell_type": "code",
   "execution_count": 24,
   "id": "57d29a0d-440b-41fe-b87c-cb01654a4889",
   "metadata": {},
   "outputs": [
    {
     "data": {
      "text/html": [
       "<div>\n",
       "<style scoped>\n",
       "    .dataframe tbody tr th:only-of-type {\n",
       "        vertical-align: middle;\n",
       "    }\n",
       "\n",
       "    .dataframe tbody tr th {\n",
       "        vertical-align: top;\n",
       "    }\n",
       "\n",
       "    .dataframe thead th {\n",
       "        text-align: right;\n",
       "    }\n",
       "</style>\n",
       "<table border=\"1\" class=\"dataframe\">\n",
       "  <thead>\n",
       "    <tr style=\"text-align: right;\">\n",
       "      <th></th>\n",
       "      <th>Open</th>\n",
       "      <th>High</th>\n",
       "      <th>Low</th>\n",
       "      <th>Close</th>\n",
       "      <th>Volume</th>\n",
       "    </tr>\n",
       "    <tr>\n",
       "      <th>Date</th>\n",
       "      <th></th>\n",
       "      <th></th>\n",
       "      <th></th>\n",
       "      <th></th>\n",
       "      <th></th>\n",
       "    </tr>\n",
       "  </thead>\n",
       "  <tbody>\n",
       "    <tr>\n",
       "      <th>2018-05-11 00:00:00+00:00</th>\n",
       "      <td>5664.824377</td>\n",
       "      <td>5667.813574</td>\n",
       "      <td>5251.096080</td>\n",
       "      <td>5282.481641</td>\n",
       "      <td>6.133178e+09</td>\n",
       "    </tr>\n",
       "    <tr>\n",
       "      <th>2018-05-12 00:00:00+00:00</th>\n",
       "      <td>5282.553062</td>\n",
       "      <td>5420.781415</td>\n",
       "      <td>5140.578593</td>\n",
       "      <td>5322.936382</td>\n",
       "      <td>4.934391e+09</td>\n",
       "    </tr>\n",
       "    <tr>\n",
       "      <th>2018-05-13 00:00:00+00:00</th>\n",
       "      <td>5329.626437</td>\n",
       "      <td>5501.248087</td>\n",
       "      <td>5253.433261</td>\n",
       "      <td>5468.871849</td>\n",
       "      <td>4.266900e+09</td>\n",
       "    </tr>\n",
       "    <tr>\n",
       "      <th>2018-05-14 00:00:00+00:00</th>\n",
       "      <td>5462.142056</td>\n",
       "      <td>5566.538565</td>\n",
       "      <td>5243.126634</td>\n",
       "      <td>5464.010127</td>\n",
       "      <td>5.378445e+09</td>\n",
       "    </tr>\n",
       "    <tr>\n",
       "      <th>2018-05-15 00:00:00+00:00</th>\n",
       "      <td>5457.205960</td>\n",
       "      <td>5538.368158</td>\n",
       "      <td>5298.025616</td>\n",
       "      <td>5332.877222</td>\n",
       "      <td>4.821946e+09</td>\n",
       "    </tr>\n",
       "    <tr>\n",
       "      <th>...</th>\n",
       "      <td>...</td>\n",
       "      <td>...</td>\n",
       "      <td>...</td>\n",
       "      <td>...</td>\n",
       "      <td>...</td>\n",
       "    </tr>\n",
       "    <tr>\n",
       "      <th>2023-05-06 00:00:00+00:00</th>\n",
       "      <td>18330.843345</td>\n",
       "      <td>18506.278304</td>\n",
       "      <td>17650.795473</td>\n",
       "      <td>17921.203513</td>\n",
       "      <td>1.249640e+10</td>\n",
       "    </tr>\n",
       "    <tr>\n",
       "      <th>2023-05-07 00:00:00+00:00</th>\n",
       "      <td>17919.311694</td>\n",
       "      <td>18083.179625</td>\n",
       "      <td>17635.077422</td>\n",
       "      <td>17643.267295</td>\n",
       "      <td>8.880573e+09</td>\n",
       "    </tr>\n",
       "    <tr>\n",
       "      <th>2023-05-08 00:00:00+00:00</th>\n",
       "      <td>17640.373746</td>\n",
       "      <td>17772.297647</td>\n",
       "      <td>16939.298575</td>\n",
       "      <td>17179.064223</td>\n",
       "      <td>1.451416e+10</td>\n",
       "    </tr>\n",
       "    <tr>\n",
       "      <th>2023-05-09 00:00:00+00:00</th>\n",
       "      <td>17179.546723</td>\n",
       "      <td>17259.046454</td>\n",
       "      <td>16982.992543</td>\n",
       "      <td>17157.848338</td>\n",
       "      <td>1.036282e+10</td>\n",
       "    </tr>\n",
       "    <tr>\n",
       "      <th>2023-05-10 00:00:00+00:00</th>\n",
       "      <td>17155.247588</td>\n",
       "      <td>17567.849475</td>\n",
       "      <td>16676.720396</td>\n",
       "      <td>17133.880960</td>\n",
       "      <td>1.543558e+10</td>\n",
       "    </tr>\n",
       "  </tbody>\n",
       "</table>\n",
       "<p>1826 rows × 5 columns</p>\n",
       "</div>"
      ],
      "text/plain": [
       "                                   Open          High           Low  \\\n",
       "Date                                                                  \n",
       "2018-05-11 00:00:00+00:00   5664.824377   5667.813574   5251.096080   \n",
       "2018-05-12 00:00:00+00:00   5282.553062   5420.781415   5140.578593   \n",
       "2018-05-13 00:00:00+00:00   5329.626437   5501.248087   5253.433261   \n",
       "2018-05-14 00:00:00+00:00   5462.142056   5566.538565   5243.126634   \n",
       "2018-05-15 00:00:00+00:00   5457.205960   5538.368158   5298.025616   \n",
       "...                                 ...           ...           ...   \n",
       "2023-05-06 00:00:00+00:00  18330.843345  18506.278304  17650.795473   \n",
       "2023-05-07 00:00:00+00:00  17919.311694  18083.179625  17635.077422   \n",
       "2023-05-08 00:00:00+00:00  17640.373746  17772.297647  16939.298575   \n",
       "2023-05-09 00:00:00+00:00  17179.546723  17259.046454  16982.992543   \n",
       "2023-05-10 00:00:00+00:00  17155.247588  17567.849475  16676.720396   \n",
       "\n",
       "                                  Close        Volume  \n",
       "Date                                                   \n",
       "2018-05-11 00:00:00+00:00   5282.481641  6.133178e+09  \n",
       "2018-05-12 00:00:00+00:00   5322.936382  4.934391e+09  \n",
       "2018-05-13 00:00:00+00:00   5468.871849  4.266900e+09  \n",
       "2018-05-14 00:00:00+00:00   5464.010127  5.378445e+09  \n",
       "2018-05-15 00:00:00+00:00   5332.877222  4.821946e+09  \n",
       "...                                 ...           ...  \n",
       "2023-05-06 00:00:00+00:00  17921.203513  1.249640e+10  \n",
       "2023-05-07 00:00:00+00:00  17643.267295  8.880573e+09  \n",
       "2023-05-08 00:00:00+00:00  17179.064223  1.451416e+10  \n",
       "2023-05-09 00:00:00+00:00  17157.848338  1.036282e+10  \n",
       "2023-05-10 00:00:00+00:00  17133.880960  1.543558e+10  \n",
       "\n",
       "[1826 rows x 5 columns]"
      ]
     },
     "execution_count": 24,
     "metadata": {},
     "output_type": "execute_result"
    }
   ],
   "source": [
    "# Make a new dataframe to make table readable for Random Forest Clacifier. The weightings are already defined. The resulting dataframe will be a sum of all the individual dataframes data multiplied by the defined weightings.\n",
    "\n",
    "crypto_portfolio_RFC = BTC_weight * BTC_df + ETH_weight * ETH_df + LTC_weight * LTC_df\n",
    "\n",
    "crypto_portfolio_RFC"
   ]
  },
  {
   "cell_type": "markdown",
   "id": "b96c98a5-c6f7-43cb-9a2e-0b4f635ec898",
   "metadata": {},
   "source": [
    "### This section cover the Random Forest Clacifier our group has tried to use to determine future crypto prices - ALEX TO COMMENT CODE"
   ]
  },
  {
   "cell_type": "code",
   "execution_count": 25,
   "id": "3c03699d-d560-4829-9c6e-d8cbbdc2a63b",
   "metadata": {
    "tags": []
   },
   "outputs": [
    {
     "data": {
      "image/png": "[encoded data removed]",
      "text/plain": [
       "<Figure size 640x480 with 1 Axes>"
      ]
     },
     "metadata": {},
     "output_type": "display_data"
    }
   ],
   "source": [
    "# Plot Cryto Portfolio of BTC, ETH and LTC\n",
    "\n",
    "crypto_portfolio_RFC.plot.line(y = \"Close\", use_index=True, title = \"Our Select crypto portfolio movements over the last 5 years\", color = \"red\");"
   ]
  },
  {
   "cell_type": "code",
   "execution_count": 26,
   "id": "0b8d75d9-1043-4d8f-9221-705ac3b5f4ac",
   "metadata": {},
   "outputs": [],
   "source": [
    "# Setting up the conditions for the Random Forest Clacifier.\n",
    "# Identify Target as being whether or not Tomorrows value is greater than Todays close value. This Target is represented by a 1 or 0, 1 is the price has gone up and 0 is price has gone down. Unfortunatly it does not tell us by hw much the value has gone up or down\n",
    "crypto_portfolio_RFC['Tomorrow'] = crypto_portfolio_RFC['Close'].shift(-1)\n",
    "crypto_portfolio_RFC['Target'] = (crypto_portfolio_RFC['Tomorrow'] > crypto_portfolio_RFC['Close']).astype(int)"
   ]
  },
  {
   "cell_type": "code",
   "execution_count": 27,
   "id": "5310e1a4-3519-4f43-9a2e-1e5a3764f99f",
   "metadata": {},
   "outputs": [
    {
     "data": {
      "text/plain": [
       "RandomForestClassifier(min_samples_split=100, random_state=1)"
      ]
     },
     "execution_count": 27,
     "metadata": {},
     "output_type": "execute_result"
    }
   ],
   "source": [
    "# Setting parmeters for our model to influence accuracy. i.e. n_estimators allows us to set number of estimates used in the model, min samples splits allows us to minimise overfitting. Worthwhile playing with these parameters to improve efficiency.Random state = 1 essentially means that if the model is run multiple times you should return similar reults.\n",
    "\n",
    "model = RandomForestClassifier(n_estimators=100, min_samples_split=100, random_state=1)\n",
    "\n",
    "# Setting the amount od data we are training the model on and then what we are testing on. Need to make sure this is different. In below first 100 rows are in Train set and last 100 rows are in test. Again this could be altered to improve accuracy.\n",
    "\n",
    "train = crypto_portfolio_RFC.iloc[:-100]\n",
    "test = crypto_portfolio_RFC.iloc[-100:]\n",
    "\n",
    "# Set columns used to predict Target. Need to be sure you use correct columns.\n",
    "# Train the model using the predictor columns.\n",
    "predictors = ['Open', 'High', 'Low', 'Close', 'Volume']\n",
    "model.fit(train[predictors], train['Target'])"
   ]
  },
  {
   "cell_type": "code",
   "execution_count": 28,
   "id": "25f04bd9-3089-404f-ac12-d3860059d547",
   "metadata": {},
   "outputs": [
    {
     "data": {
      "text/plain": [
       "0.45614035087719296"
      ]
     },
     "execution_count": 28,
     "metadata": {},
     "output_type": "execute_result"
    }
   ],
   "source": [
    "# Using predict method to pass in test scoes to make predictions.\n",
    "# Predictions score is calculated. The score states that for every time the model predicted values went up it actually went up 'X' number of times. \n",
    "\n",
    "preds = model.predict(test[predictors])\n",
    "preds = pd.Series(preds, index=test.index)\n",
    "precision_score(test ['Target'], preds)"
   ]
  },
  {
   "cell_type": "code",
   "execution_count": 29,
   "id": "77179776-8340-4bdb-aecd-9e9148478589",
   "metadata": {},
   "outputs": [
    {
     "ename": "NameError",
     "evalue": "name 'predictions' is not defined",
     "output_type": "error",
     "traceback": [
      "\u001b[1;31m---------------------------------------------------------------------------\u001b[0m",
      "\u001b[1;31mNameError\u001b[0m                                 Traceback (most recent call last)",
      "\u001b[1;32m~\\AppData\\Local\\Temp\\ipykernel_27332\\4087241473.py\u001b[0m in \u001b[0;36m<module>\u001b[1;34m\u001b[0m\n\u001b[1;32m----> 1\u001b[1;33m \u001b[0mpredictions\u001b[0m\u001b[1;33m[\u001b[0m\u001b[1;34m\"Predictions\"\u001b[0m\u001b[1;33m]\u001b[0m\u001b[1;33m.\u001b[0m\u001b[0mvalue_counts\u001b[0m\u001b[1;33m(\u001b[0m\u001b[1;33m)\u001b[0m\u001b[1;33m\u001b[0m\u001b[1;33m\u001b[0m\u001b[0m\n\u001b[0m",
      "\u001b[1;31mNameError\u001b[0m: name 'predictions' is not defined"
     ]
    }
   ],
   "source": [
    "# Provde a quick count of predicted 0 and 1's.\n",
    "\n",
    "predictions[\"Predictions\"].value_counts()"
   ]
  },
  {
   "cell_type": "code",
   "execution_count": 30,
   "id": "7dcebf17-7354-4c0e-8064-340c9587ab8b",
   "metadata": {},
   "outputs": [
    {
     "data": {
      "text/html": [
       "<div>\n",
       "<style scoped>\n",
       "    .dataframe tbody tr th:only-of-type {\n",
       "        vertical-align: middle;\n",
       "    }\n",
       "\n",
       "    .dataframe tbody tr th {\n",
       "        vertical-align: top;\n",
       "    }\n",
       "\n",
       "    .dataframe thead th {\n",
       "        text-align: right;\n",
       "    }\n",
       "</style>\n",
       "<table border=\"1\" class=\"dataframe\">\n",
       "  <thead>\n",
       "    <tr style=\"text-align: right;\">\n",
       "      <th></th>\n",
       "      <th>Open</th>\n",
       "      <th>High</th>\n",
       "      <th>Low</th>\n",
       "      <th>Close</th>\n",
       "      <th>Volume</th>\n",
       "      <th>Tomorrow</th>\n",
       "      <th>Target</th>\n",
       "    </tr>\n",
       "    <tr>\n",
       "      <th>Date</th>\n",
       "      <th></th>\n",
       "      <th></th>\n",
       "      <th></th>\n",
       "      <th></th>\n",
       "      <th></th>\n",
       "      <th></th>\n",
       "      <th></th>\n",
       "    </tr>\n",
       "  </thead>\n",
       "  <tbody>\n",
       "    <tr>\n",
       "      <th>2018-05-11 00:00:00+00:00</th>\n",
       "      <td>5664.824377</td>\n",
       "      <td>5667.813574</td>\n",
       "      <td>5251.096080</td>\n",
       "      <td>5282.481641</td>\n",
       "      <td>6.133178e+09</td>\n",
       "      <td>5322.936382</td>\n",
       "      <td>1</td>\n",
       "    </tr>\n",
       "    <tr>\n",
       "      <th>2018-05-12 00:00:00+00:00</th>\n",
       "      <td>5282.553062</td>\n",
       "      <td>5420.781415</td>\n",
       "      <td>5140.578593</td>\n",
       "      <td>5322.936382</td>\n",
       "      <td>4.934391e+09</td>\n",
       "      <td>5468.871849</td>\n",
       "      <td>1</td>\n",
       "    </tr>\n",
       "    <tr>\n",
       "      <th>2018-05-13 00:00:00+00:00</th>\n",
       "      <td>5329.626437</td>\n",
       "      <td>5501.248087</td>\n",
       "      <td>5253.433261</td>\n",
       "      <td>5468.871849</td>\n",
       "      <td>4.266900e+09</td>\n",
       "      <td>5464.010127</td>\n",
       "      <td>0</td>\n",
       "    </tr>\n",
       "    <tr>\n",
       "      <th>2018-05-14 00:00:00+00:00</th>\n",
       "      <td>5462.142056</td>\n",
       "      <td>5566.538565</td>\n",
       "      <td>5243.126634</td>\n",
       "      <td>5464.010127</td>\n",
       "      <td>5.378445e+09</td>\n",
       "      <td>5332.877222</td>\n",
       "      <td>0</td>\n",
       "    </tr>\n",
       "    <tr>\n",
       "      <th>2018-05-15 00:00:00+00:00</th>\n",
       "      <td>5457.205960</td>\n",
       "      <td>5538.368158</td>\n",
       "      <td>5298.025616</td>\n",
       "      <td>5332.877222</td>\n",
       "      <td>4.821946e+09</td>\n",
       "      <td>5247.339844</td>\n",
       "      <td>0</td>\n",
       "    </tr>\n",
       "  </tbody>\n",
       "</table>\n",
       "</div>"
      ],
      "text/plain": [
       "                                  Open         High          Low        Close  \\\n",
       "Date                                                                            \n",
       "2018-05-11 00:00:00+00:00  5664.824377  5667.813574  5251.096080  5282.481641   \n",
       "2018-05-12 00:00:00+00:00  5282.553062  5420.781415  5140.578593  5322.936382   \n",
       "2018-05-13 00:00:00+00:00  5329.626437  5501.248087  5253.433261  5468.871849   \n",
       "2018-05-14 00:00:00+00:00  5462.142056  5566.538565  5243.126634  5464.010127   \n",
       "2018-05-15 00:00:00+00:00  5457.205960  5538.368158  5298.025616  5332.877222   \n",
       "\n",
       "                                 Volume     Tomorrow  Target  \n",
       "Date                                                          \n",
       "2018-05-11 00:00:00+00:00  6.133178e+09  5322.936382       1  \n",
       "2018-05-12 00:00:00+00:00  4.934391e+09  5468.871849       1  \n",
       "2018-05-13 00:00:00+00:00  4.266900e+09  5464.010127       0  \n",
       "2018-05-14 00:00:00+00:00  5.378445e+09  5332.877222       0  \n",
       "2018-05-15 00:00:00+00:00  4.821946e+09  5247.339844       0  "
      ]
     },
     "execution_count": 30,
     "metadata": {},
     "output_type": "execute_result"
    }
   ],
   "source": [
    "# Displaying crypto Portoflio DF.\n",
    "\n",
    "crypto_portfolio_RFC.head()"
   ]
  },
  {
   "cell_type": "code",
   "execution_count": 31,
   "id": "54aa0618-f315-43d0-8db8-eb3cca1e2b88",
   "metadata": {},
   "outputs": [
    {
     "data": {
      "text/plain": [
       "<AxesSubplot:xlabel='Date'>"
      ]
     },
     "execution_count": 31,
     "metadata": {},
     "output_type": "execute_result"
    },
    {
     "data": {
      "image/png": "[encoded data removed]",
      "text/plain": [
       "<Figure size 640x480 with 1 Axes>"
      ]
     },
     "metadata": {},
     "output_type": "display_data"
    }
   ],
   "source": [
    "# Visually displaying the predicted value vs actual values. i.e. Actual 'Target' (blue) vs Predictions (orange). We mostly predicted value would go up and modtly it went down.\n",
    "\n",
    "combined = pd.concat([test['Target'], preds], axis = 1)\n",
    "combined.plot()"
   ]
  },
  {
   "cell_type": "code",
   "execution_count": 32,
   "id": "5d82136e-e9b5-4a16-a9ef-43fa6b55763a",
   "metadata": {},
   "outputs": [],
   "source": [
    "# Fitting model and predicting, combing predictions, returning combined df.\n",
    "\n",
    "def predict(train, test, predictors, model):\n",
    "    model.fit(train[predictors], train['Target'])\n",
    "    preds = model.predict(test[predictors])\n",
    "    preds = pd.Series(preds, index = test.index, name='Predictions')\n",
    "    combined = pd.concat([test['Target'], preds], axis = 1)\n",
    "    return combined\n",
    "\n"
   ]
  },
  {
   "cell_type": "code",
   "execution_count": 33,
   "id": "cb0bf55d-dc11-4aa5-9c16-0e52b9580d48",
   "metadata": {},
   "outputs": [],
   "source": [
    "# Using backtest allows you to test against historical data multiple times. Start means we will intially test using the first 250 data points and then do this for an additional 25 times, therby generating multiple test runs and increasing our accuracy.\n",
    "# Function will loop across our data to test multiple years.\n",
    "\n",
    "def backtest(data, model, predictors, start = 250, step = 25):\n",
    "    all_predictions = []\n",
    "    \n",
    "    for i in range(start, data.shape[0], step):\n",
    "        train = data.iloc[0:i].copy()\n",
    "        test = data.iloc[i:(i+step)].copy()\n",
    "        predictions = predict(train, test, predictors, model)\n",
    "        all_predictions.append(predictions)\n",
    "        return pd.concat(all_predictions)"
   ]
  },
  {
   "cell_type": "code",
   "execution_count": 36,
   "id": "0f488501-88ba-40c5-b5a5-81b00377ff69",
   "metadata": {},
   "outputs": [
    {
     "data": {
      "text/plain": [
       "0.48"
      ]
     },
     "execution_count": 36,
     "metadata": {},
     "output_type": "execute_result"
    }
   ],
   "source": [
    "# Running the prediction, you can see that when we predicted market would go up it actually went up 'X\" number of times\n",
    "predictions = backtest(crypto_portfolio_RFC, model, predictors)\n",
    "precision_score(predictions['Target'], predictions['Predictions'])"
   ]
  },
  {
   "cell_type": "code",
   "execution_count": 39,
   "id": "5f7a26ba-1ac7-4c36-b9b7-4e77c166e117",
   "metadata": {},
   "outputs": [
    {
     "data": {
      "text/plain": [
       "1    25\n",
       "Name: Predictions, dtype: int64"
      ]
     },
     "execution_count": 39,
     "metadata": {},
     "output_type": "execute_result"
    }
   ],
   "source": [
    "predictions[\"Predictions\"].value_counts() "
   ]
  },
  {
   "cell_type": "code",
   "execution_count": null,
   "id": "e34ff756-d350-4846-a1e8-c735199182a9",
   "metadata": {},
   "outputs": [],
   "source": [
    "# Now we will look to start Adding Predictors to improve accuracy\n",
    "# Using Rolling Averages"
   ]
  },
  {
   "cell_type": "code",
   "execution_count": 58,
   "id": "3354dc9a-e639-4551-9179-72cb18079570",
   "metadata": {},
   "outputs": [],
   "source": [
    "# Horizonhs here are differnt days that we can compare todays value against past values at differnt periods in time i.e.  2, 5, 60 and 250 days ago. Comparing against past 'horizons' can help the model identify if the market is due for an upturn or downturn.\n",
    "\n",
    "horizons = [2,5,60,250]\n",
    "new_predictors = []\n",
    "\n",
    "#Calculate a rolling average against the horizons.\n",
    "\n",
    "for horizon in horizons:\n",
    "    rolling_averages = crypto_portfolio_RFC.rolling(horizon).mean()\n",
    "\n",
    "# closed prices in portfolio divided by rolling averages\n",
    "    ratio_column = f\"Close_Ratio_{horizon}\"\n",
    "    crypto_portfolio_RFC[ratio_column] = crypto_portfolio_RFC['Close'] / rolling_averages['Close']\n",
    "    \n",
    "# Trend is number of days in past x days that stock price went up  \n",
    "# Shift forward will be used to determine rolling sum, model will look at last few days and find sum of the 'Target'.\n",
    "\n",
    "    trend_column = f\"Trend_{horizon}\"\n",
    "    crypto_portfolio_RFC[trend_column] = crypto_portfolio_RFC.shift(1).rolling(horizon).sum()[\"Target\"] \n",
    "\n",
    " # Add ratio and trend column to new predictors   \n",
    "\n",
    "    new_predictors += [ratio_column, trend_column]"
   ]
  },
  {
   "cell_type": "code",
   "execution_count": 59,
   "id": "461ec79e-350a-4a0c-8484-dcb0841a1b99",
   "metadata": {},
   "outputs": [
    {
     "data": {
      "text/plain": [
       "['Close_Ratio_2',\n",
       " 'Trend_2',\n",
       " 'Close_Ratio_5',\n",
       " 'Trend_5',\n",
       " 'Close_Ratio_60',\n",
       " 'Trend_60',\n",
       " 'Close_Ratio_250',\n",
       " 'Trend_250']"
      ]
     },
     "execution_count": 59,
     "metadata": {},
     "output_type": "execute_result"
    }
   ],
   "source": [
    "new_predictors"
   ]
  },
  {
   "cell_type": "code",
   "execution_count": 60,
   "id": "5c751a48-905b-4b08-b3aa-2bcbcfea9513",
   "metadata": {},
   "outputs": [
    {
     "data": {
      "text/html": [
       "<div>\n",
       "<style scoped>\n",
       "    .dataframe tbody tr th:only-of-type {\n",
       "        vertical-align: middle;\n",
       "    }\n",
       "\n",
       "    .dataframe tbody tr th {\n",
       "        vertical-align: top;\n",
       "    }\n",
       "\n",
       "    .dataframe thead th {\n",
       "        text-align: right;\n",
       "    }\n",
       "</style>\n",
       "<table border=\"1\" class=\"dataframe\">\n",
       "  <thead>\n",
       "    <tr style=\"text-align: right;\">\n",
       "      <th></th>\n",
       "      <th>Open</th>\n",
       "      <th>High</th>\n",
       "      <th>Low</th>\n",
       "      <th>Close</th>\n",
       "      <th>Volume</th>\n",
       "      <th>Tomorrow</th>\n",
       "      <th>Target</th>\n",
       "      <th>Close_Ratio_2</th>\n",
       "      <th>Trend_2</th>\n",
       "      <th>Close_Ratio_5</th>\n",
       "      <th>Trend_5</th>\n",
       "      <th>Close_Ratio_60</th>\n",
       "      <th>Trend_60</th>\n",
       "      <th>Close_Ratio_250</th>\n",
       "      <th>Trend_250</th>\n",
       "    </tr>\n",
       "    <tr>\n",
       "      <th>Date</th>\n",
       "      <th></th>\n",
       "      <th></th>\n",
       "      <th></th>\n",
       "      <th></th>\n",
       "      <th></th>\n",
       "      <th></th>\n",
       "      <th></th>\n",
       "      <th></th>\n",
       "      <th></th>\n",
       "      <th></th>\n",
       "      <th></th>\n",
       "      <th></th>\n",
       "      <th></th>\n",
       "      <th></th>\n",
       "      <th></th>\n",
       "    </tr>\n",
       "  </thead>\n",
       "  <tbody>\n",
       "    <tr>\n",
       "      <th>2019-01-16 00:00:00+00:00</th>\n",
       "      <td>2218.592491</td>\n",
       "      <td>2252.826373</td>\n",
       "      <td>2214.363234</td>\n",
       "      <td>2233.250563</td>\n",
       "      <td>4.114550e+09</td>\n",
       "      <td>2247.449820</td>\n",
       "      <td>1</td>\n",
       "      <td>NaN</td>\n",
       "      <td>NaN</td>\n",
       "      <td>NaN</td>\n",
       "      <td>NaN</td>\n",
       "      <td>NaN</td>\n",
       "      <td>NaN</td>\n",
       "      <td>NaN</td>\n",
       "      <td>NaN</td>\n",
       "    </tr>\n",
       "    <tr>\n",
       "      <th>2019-01-17 00:00:00+00:00</th>\n",
       "      <td>2231.379729</td>\n",
       "      <td>2248.557497</td>\n",
       "      <td>2212.489287</td>\n",
       "      <td>2247.449820</td>\n",
       "      <td>4.117819e+09</td>\n",
       "      <td>2234.137840</td>\n",
       "      <td>0</td>\n",
       "      <td>1.003169</td>\n",
       "      <td>NaN</td>\n",
       "      <td>NaN</td>\n",
       "      <td>NaN</td>\n",
       "      <td>NaN</td>\n",
       "      <td>NaN</td>\n",
       "      <td>NaN</td>\n",
       "      <td>NaN</td>\n",
       "    </tr>\n",
       "    <tr>\n",
       "      <th>2019-01-18 00:00:00+00:00</th>\n",
       "      <td>2247.082029</td>\n",
       "      <td>2249.858579</td>\n",
       "      <td>2221.416613</td>\n",
       "      <td>2234.137840</td>\n",
       "      <td>3.750042e+09</td>\n",
       "      <td>2277.751794</td>\n",
       "      <td>1</td>\n",
       "      <td>0.997030</td>\n",
       "      <td>1.0</td>\n",
       "      <td>NaN</td>\n",
       "      <td>NaN</td>\n",
       "      <td>NaN</td>\n",
       "      <td>NaN</td>\n",
       "      <td>NaN</td>\n",
       "      <td>NaN</td>\n",
       "    </tr>\n",
       "    <tr>\n",
       "      <th>2019-01-19 00:00:00+00:00</th>\n",
       "      <td>2231.059106</td>\n",
       "      <td>2296.202573</td>\n",
       "      <td>2230.911911</td>\n",
       "      <td>2277.751794</td>\n",
       "      <td>4.546472e+09</td>\n",
       "      <td>2199.568293</td>\n",
       "      <td>0</td>\n",
       "      <td>1.009666</td>\n",
       "      <td>1.0</td>\n",
       "      <td>NaN</td>\n",
       "      <td>NaN</td>\n",
       "      <td>NaN</td>\n",
       "      <td>NaN</td>\n",
       "      <td>NaN</td>\n",
       "      <td>NaN</td>\n",
       "    </tr>\n",
       "    <tr>\n",
       "      <th>2019-01-20 00:00:00+00:00</th>\n",
       "      <td>2275.906351</td>\n",
       "      <td>2286.889295</td>\n",
       "      <td>2188.515966</td>\n",
       "      <td>2199.568293</td>\n",
       "      <td>4.297129e+09</td>\n",
       "      <td>2183.888125</td>\n",
       "      <td>0</td>\n",
       "      <td>0.982538</td>\n",
       "      <td>1.0</td>\n",
       "      <td>0.982638</td>\n",
       "      <td>NaN</td>\n",
       "      <td>NaN</td>\n",
       "      <td>NaN</td>\n",
       "      <td>NaN</td>\n",
       "      <td>NaN</td>\n",
       "    </tr>\n",
       "  </tbody>\n",
       "</table>\n",
       "</div>"
      ],
      "text/plain": [
       "                                  Open         High          Low        Close  \\\n",
       "Date                                                                            \n",
       "2019-01-16 00:00:00+00:00  2218.592491  2252.826373  2214.363234  2233.250563   \n",
       "2019-01-17 00:00:00+00:00  2231.379729  2248.557497  2212.489287  2247.449820   \n",
       "2019-01-18 00:00:00+00:00  2247.082029  2249.858579  2221.416613  2234.137840   \n",
       "2019-01-19 00:00:00+00:00  2231.059106  2296.202573  2230.911911  2277.751794   \n",
       "2019-01-20 00:00:00+00:00  2275.906351  2286.889295  2188.515966  2199.568293   \n",
       "\n",
       "                                 Volume     Tomorrow  Target  Close_Ratio_2  \\\n",
       "Date                                                                          \n",
       "2019-01-16 00:00:00+00:00  4.114550e+09  2247.449820       1            NaN   \n",
       "2019-01-17 00:00:00+00:00  4.117819e+09  2234.137840       0       1.003169   \n",
       "2019-01-18 00:00:00+00:00  3.750042e+09  2277.751794       1       0.997030   \n",
       "2019-01-19 00:00:00+00:00  4.546472e+09  2199.568293       0       1.009666   \n",
       "2019-01-20 00:00:00+00:00  4.297129e+09  2183.888125       0       0.982538   \n",
       "\n",
       "                           Trend_2  Close_Ratio_5  Trend_5  Close_Ratio_60  \\\n",
       "Date                                                                         \n",
       "2019-01-16 00:00:00+00:00      NaN            NaN      NaN             NaN   \n",
       "2019-01-17 00:00:00+00:00      NaN            NaN      NaN             NaN   \n",
       "2019-01-18 00:00:00+00:00      1.0            NaN      NaN             NaN   \n",
       "2019-01-19 00:00:00+00:00      1.0            NaN      NaN             NaN   \n",
       "2019-01-20 00:00:00+00:00      1.0       0.982638      NaN             NaN   \n",
       "\n",
       "                           Trend_60  Close_Ratio_250  Trend_250  \n",
       "Date                                                             \n",
       "2019-01-16 00:00:00+00:00       NaN              NaN        NaN  \n",
       "2019-01-17 00:00:00+00:00       NaN              NaN        NaN  \n",
       "2019-01-18 00:00:00+00:00       NaN              NaN        NaN  \n",
       "2019-01-19 00:00:00+00:00       NaN              NaN        NaN  \n",
       "2019-01-20 00:00:00+00:00       NaN              NaN        NaN  "
      ]
     },
     "execution_count": 60,
     "metadata": {},
     "output_type": "execute_result"
    }
   ],
   "source": [
    "# Displaying crypto porfolio you can see additional close ratio and trend columns.\n",
    "\n",
    "crypto_portfolio_RFC.head()"
   ]
  },
  {
   "cell_type": "code",
   "execution_count": 61,
   "id": "194bf29a-b9b3-49ce-b049-47fed45337a8",
   "metadata": {},
   "outputs": [],
   "source": [
    "# Update model and review accuracy. Change n-estimtors to 200 and Min sample split to 50.\n",
    "\n",
    "model = RandomForestClassifier(n_estimators=200, min_samples_split=50, random_state = 1)"
   ]
  },
  {
   "cell_type": "code",
   "execution_count": 75,
   "id": "b43ea9eb-4707-4c3b-a1ce-c9d0356300da",
   "metadata": {},
   "outputs": [],
   "source": [
    "# To improve model using the predict_proba function. This will return a probability that the value of portfolio will go up [:,1]. Additionally we have set level at .6 will means it will have to have a higher confidence level before it actually stats that stock will go up. This will limit number of days we make prediction on.\n",
    "\n",
    "def predict(train, test, predictors, model):\n",
    "    model.fit(train[new_predictors], train['Target'])\n",
    "    preds = model.predict_proba(test[predictors])[:,1]\n",
    "    preds[preds >= .6] = 1\n",
    "    preds[preds < .6] = 0\n",
    "    preds = pd.Series(preds, index = test.index, name='Predictions')\n",
    "    combined = pd.concat([test['Target'], preds], axis = 1)\n",
    "    return combined"
   ]
  },
  {
   "cell_type": "code",
   "execution_count": 73,
   "id": "b1933f54-4d5e-4943-87b1-7a7e3f9f9b4f",
   "metadata": {
    "tags": []
   },
   "outputs": [],
   "source": [
    "crypto_portfolio_RFC.dropna(inplace = True)"
   ]
  },
  {
   "cell_type": "code",
   "execution_count": 74,
   "id": "7ec72922-e84e-4099-8233-2f5c93aa872b",
   "metadata": {},
   "outputs": [
    {
     "ename": "TypeError",
     "evalue": "predict() missing 1 required positional argument: 'new_predictors'",
     "output_type": "error",
     "traceback": [
      "\u001b[1;31m---------------------------------------------------------------------------\u001b[0m",
      "\u001b[1;31mTypeError\u001b[0m                                 Traceback (most recent call last)",
      "\u001b[1;32m~\\AppData\\Local\\Temp\\ipykernel_27332\\3524240903.py\u001b[0m in \u001b[0;36m<module>\u001b[1;34m\u001b[0m\n\u001b[0;32m      1\u001b[0m \u001b[1;31m# Show predictionso of the model So in below when model predicts value will go up then 'X' nuber of times it will go up.\u001b[0m\u001b[1;33m\u001b[0m\u001b[1;33m\u001b[0m\u001b[1;33m\u001b[0m\u001b[0m\n\u001b[0;32m      2\u001b[0m \u001b[1;33m\u001b[0m\u001b[0m\n\u001b[1;32m----> 3\u001b[1;33m \u001b[0mpredictions\u001b[0m \u001b[1;33m=\u001b[0m \u001b[0mbacktest\u001b[0m\u001b[1;33m(\u001b[0m\u001b[0mcrypto_portfolio_RFC\u001b[0m\u001b[1;33m,\u001b[0m \u001b[0mmodel\u001b[0m\u001b[1;33m,\u001b[0m \u001b[0mnew_predictors\u001b[0m\u001b[1;33m)\u001b[0m\u001b[1;33m\u001b[0m\u001b[1;33m\u001b[0m\u001b[0m\n\u001b[0m\u001b[0;32m      4\u001b[0m \u001b[0mprecision_score\u001b[0m\u001b[1;33m(\u001b[0m\u001b[0mpredictions\u001b[0m\u001b[1;33m[\u001b[0m\u001b[1;34m\"Target\"\u001b[0m\u001b[1;33m]\u001b[0m\u001b[1;33m,\u001b[0m \u001b[0mpredictions\u001b[0m\u001b[1;33m[\u001b[0m\u001b[1;34m\"Predictions\"\u001b[0m\u001b[1;33m]\u001b[0m\u001b[1;33m)\u001b[0m\u001b[1;33m\u001b[0m\u001b[1;33m\u001b[0m\u001b[0m\n",
      "\u001b[1;32m~\\AppData\\Local\\Temp\\ipykernel_27332\\3484371708.py\u001b[0m in \u001b[0;36mbacktest\u001b[1;34m(data, model, predictors, start, step)\u001b[0m\n\u001b[0;32m      8\u001b[0m         \u001b[0mtrain\u001b[0m \u001b[1;33m=\u001b[0m \u001b[0mdata\u001b[0m\u001b[1;33m.\u001b[0m\u001b[0miloc\u001b[0m\u001b[1;33m[\u001b[0m\u001b[1;36m0\u001b[0m\u001b[1;33m:\u001b[0m\u001b[0mi\u001b[0m\u001b[1;33m]\u001b[0m\u001b[1;33m.\u001b[0m\u001b[0mcopy\u001b[0m\u001b[1;33m(\u001b[0m\u001b[1;33m)\u001b[0m\u001b[1;33m\u001b[0m\u001b[1;33m\u001b[0m\u001b[0m\n\u001b[0;32m      9\u001b[0m         \u001b[0mtest\u001b[0m \u001b[1;33m=\u001b[0m \u001b[0mdata\u001b[0m\u001b[1;33m.\u001b[0m\u001b[0miloc\u001b[0m\u001b[1;33m[\u001b[0m\u001b[0mi\u001b[0m\u001b[1;33m:\u001b[0m\u001b[1;33m(\u001b[0m\u001b[0mi\u001b[0m\u001b[1;33m+\u001b[0m\u001b[0mstep\u001b[0m\u001b[1;33m)\u001b[0m\u001b[1;33m]\u001b[0m\u001b[1;33m.\u001b[0m\u001b[0mcopy\u001b[0m\u001b[1;33m(\u001b[0m\u001b[1;33m)\u001b[0m\u001b[1;33m\u001b[0m\u001b[1;33m\u001b[0m\u001b[0m\n\u001b[1;32m---> 10\u001b[1;33m         \u001b[0mpredictions\u001b[0m \u001b[1;33m=\u001b[0m \u001b[0mpredict\u001b[0m\u001b[1;33m(\u001b[0m\u001b[0mtrain\u001b[0m\u001b[1;33m,\u001b[0m \u001b[0mtest\u001b[0m\u001b[1;33m,\u001b[0m \u001b[0mpredictors\u001b[0m\u001b[1;33m,\u001b[0m \u001b[0mmodel\u001b[0m\u001b[1;33m)\u001b[0m\u001b[1;33m\u001b[0m\u001b[1;33m\u001b[0m\u001b[0m\n\u001b[0m\u001b[0;32m     11\u001b[0m         \u001b[0mall_predictions\u001b[0m\u001b[1;33m.\u001b[0m\u001b[0mappend\u001b[0m\u001b[1;33m(\u001b[0m\u001b[0mpredictions\u001b[0m\u001b[1;33m)\u001b[0m\u001b[1;33m\u001b[0m\u001b[1;33m\u001b[0m\u001b[0m\n\u001b[0;32m     12\u001b[0m         \u001b[1;32mreturn\u001b[0m \u001b[0mpd\u001b[0m\u001b[1;33m.\u001b[0m\u001b[0mconcat\u001b[0m\u001b[1;33m(\u001b[0m\u001b[0mall_predictions\u001b[0m\u001b[1;33m)\u001b[0m\u001b[1;33m\u001b[0m\u001b[1;33m\u001b[0m\u001b[0m\n",
      "\u001b[1;31mTypeError\u001b[0m: predict() missing 1 required positional argument: 'new_predictors'"
     ]
    }
   ],
   "source": [
    "# Show predictionso of the model So in below when model predicts value will go up then 'X' nuber of times it will go up.\n",
    "\n",
    "predictions = backtest(crypto_portfolio_RFC, model, new_predictors)\n",
    "precision_score(predictions[\"Target\"], predictions[\"Predictions\"])"
   ]
  },
  {
   "cell_type": "code",
   "execution_count": 48,
   "id": "59cf4995-0470-43e9-bebf-5847249fed10",
   "metadata": {},
   "outputs": [
    {
     "data": {
      "text/plain": [
       "0.0    15\n",
       "1.0    10\n",
       "Name: Predictions, dtype: int64"
      ]
     },
     "execution_count": 48,
     "metadata": {},
     "output_type": "execute_result"
    }
   ],
   "source": [
    "predictions[\"Predictions\"].value_counts()"
   ]
  },
  {
   "cell_type": "code",
   "execution_count": null,
   "id": "229f068e-9c9f-40b1-bb77-4746e581cbde",
   "metadata": {},
   "outputs": [],
   "source": [
    "\n",
    "#Review of what we have donw so far\n",
    "    # We hav donloaded drypto datat\n",
    "    # Cleaned the Data\n",
    "    # trained inital model\n",
    "    # Then added backtsting\n",
    "    # improved model with extra predictor columns i.e. trend and close ratio\n",
    "# Possible Improvement\n",
    "    #look at hourly data\n",
    "    # look at correlations between regular currencies, comoodities etc\n"
   ]
  },
  {
   "cell_type": "markdown",
   "id": "488e7613-e73b-49ac-8e7c-149a9bc3e5a9",
   "metadata": {},
   "source": [
    "### This section cover the Monte Carlo Simulation"
   ]
  },
  {
   "cell_type": "code",
   "execution_count": 84,
   "id": "cf0face2-e6b4-4373-8fe3-1cde12f56cad",
   "metadata": {},
   "outputs": [
    {
     "data": {
      "text/html": [
       "<div>\n",
       "<style scoped>\n",
       "    .dataframe tbody tr th:only-of-type {\n",
       "        vertical-align: middle;\n",
       "    }\n",
       "\n",
       "    .dataframe tbody tr th {\n",
       "        vertical-align: top;\n",
       "    }\n",
       "\n",
       "    .dataframe thead tr th {\n",
       "        text-align: left;\n",
       "    }\n",
       "</style>\n",
       "<table border=\"1\" class=\"dataframe\">\n",
       "  <thead>\n",
       "    <tr>\n",
       "      <th></th>\n",
       "      <th colspan=\"5\" halign=\"left\">BTC</th>\n",
       "      <th colspan=\"5\" halign=\"left\">ETH</th>\n",
       "      <th colspan=\"5\" halign=\"left\">LTC</th>\n",
       "    </tr>\n",
       "    <tr>\n",
       "      <th></th>\n",
       "      <th>Open</th>\n",
       "      <th>High</th>\n",
       "      <th>Low</th>\n",
       "      <th>Close</th>\n",
       "      <th>Volume</th>\n",
       "      <th>Open</th>\n",
       "      <th>High</th>\n",
       "      <th>Low</th>\n",
       "      <th>Close</th>\n",
       "      <th>Volume</th>\n",
       "      <th>Open</th>\n",
       "      <th>High</th>\n",
       "      <th>Low</th>\n",
       "      <th>Close</th>\n",
       "      <th>Volume</th>\n",
       "    </tr>\n",
       "  </thead>\n",
       "  <tbody>\n",
       "    <tr>\n",
       "      <th>2018-05-11</th>\n",
       "      <td>9052.959961</td>\n",
       "      <td>9052.959961</td>\n",
       "      <td>8394.459961</td>\n",
       "      <td>8441.490234</td>\n",
       "      <td>8488520192</td>\n",
       "      <td>727.013000</td>\n",
       "      <td>736.976990</td>\n",
       "      <td>669.825012</td>\n",
       "      <td>679.585999</td>\n",
       "      <td>3290080000</td>\n",
       "      <td>149.445007</td>\n",
       "      <td>149.445007</td>\n",
       "      <td>134.725998</td>\n",
       "      <td>137.117004</td>\n",
       "      <td>530416000</td>\n",
       "    </tr>\n",
       "    <tr>\n",
       "      <th>2018-05-12</th>\n",
       "      <td>8441.440430</td>\n",
       "      <td>8664.860352</td>\n",
       "      <td>8223.500000</td>\n",
       "      <td>8504.889648</td>\n",
       "      <td>6821380096</td>\n",
       "      <td>679.877014</td>\n",
       "      <td>691.411011</td>\n",
       "      <td>644.065979</td>\n",
       "      <td>686.047974</td>\n",
       "      <td>2668480000</td>\n",
       "      <td>137.257004</td>\n",
       "      <td>144.419006</td>\n",
       "      <td>132.587997</td>\n",
       "      <td>141.882004</td>\n",
       "      <td>410184992</td>\n",
       "    </tr>\n",
       "    <tr>\n",
       "      <th>2018-05-13</th>\n",
       "      <td>8515.490234</td>\n",
       "      <td>8773.549805</td>\n",
       "      <td>8395.120117</td>\n",
       "      <td>8723.940430</td>\n",
       "      <td>5866379776</td>\n",
       "      <td>687.174988</td>\n",
       "      <td>741.312012</td>\n",
       "      <td>675.318970</td>\n",
       "      <td>733.495972</td>\n",
       "      <td>2362500096</td>\n",
       "      <td>141.798004</td>\n",
       "      <td>147.246002</td>\n",
       "      <td>137.654999</td>\n",
       "      <td>144.587997</td>\n",
       "      <td>383224000</td>\n",
       "    </tr>\n",
       "    <tr>\n",
       "      <th>2018-05-14</th>\n",
       "      <td>8713.099609</td>\n",
       "      <td>8881.120117</td>\n",
       "      <td>8367.969727</td>\n",
       "      <td>8716.790039</td>\n",
       "      <td>7364149760</td>\n",
       "      <td>732.732971</td>\n",
       "      <td>742.169983</td>\n",
       "      <td>695.791992</td>\n",
       "      <td>730.549011</td>\n",
       "      <td>3005110016</td>\n",
       "      <td>144.623993</td>\n",
       "      <td>152.154999</td>\n",
       "      <td>136.072006</td>\n",
       "      <td>147.714005</td>\n",
       "      <td>584222016</td>\n",
       "    </tr>\n",
       "    <tr>\n",
       "      <th>2018-05-15</th>\n",
       "      <td>8705.190430</td>\n",
       "      <td>8836.190430</td>\n",
       "      <td>8456.450195</td>\n",
       "      <td>8510.379883</td>\n",
       "      <td>6705710080</td>\n",
       "      <td>731.143005</td>\n",
       "      <td>739.052002</td>\n",
       "      <td>700.994995</td>\n",
       "      <td>708.870972</td>\n",
       "      <td>2523069952</td>\n",
       "      <td>147.488007</td>\n",
       "      <td>149.382996</td>\n",
       "      <td>138.570007</td>\n",
       "      <td>139.880005</td>\n",
       "      <td>415984992</td>\n",
       "    </tr>\n",
       "  </tbody>\n",
       "</table>\n",
       "</div>"
      ],
      "text/plain": [
       "                    BTC                                                     \\\n",
       "                   Open         High          Low        Close      Volume   \n",
       "2018-05-11  9052.959961  9052.959961  8394.459961  8441.490234  8488520192   \n",
       "2018-05-12  8441.440430  8664.860352  8223.500000  8504.889648  6821380096   \n",
       "2018-05-13  8515.490234  8773.549805  8395.120117  8723.940430  5866379776   \n",
       "2018-05-14  8713.099609  8881.120117  8367.969727  8716.790039  7364149760   \n",
       "2018-05-15  8705.190430  8836.190430  8456.450195  8510.379883  6705710080   \n",
       "\n",
       "                   ETH                                                  \\\n",
       "                  Open        High         Low       Close      Volume   \n",
       "2018-05-11  727.013000  736.976990  669.825012  679.585999  3290080000   \n",
       "2018-05-12  679.877014  691.411011  644.065979  686.047974  2668480000   \n",
       "2018-05-13  687.174988  741.312012  675.318970  733.495972  2362500096   \n",
       "2018-05-14  732.732971  742.169983  695.791992  730.549011  3005110016   \n",
       "2018-05-15  731.143005  739.052002  700.994995  708.870972  2523069952   \n",
       "\n",
       "                   LTC                                                 \n",
       "                  Open        High         Low       Close     Volume  \n",
       "2018-05-11  149.445007  149.445007  134.725998  137.117004  530416000  \n",
       "2018-05-12  137.257004  144.419006  132.587997  141.882004  410184992  \n",
       "2018-05-13  141.798004  147.246002  137.654999  144.587997  383224000  \n",
       "2018-05-14  144.623993  152.154999  136.072006  147.714005  584222016  \n",
       "2018-05-15  147.488007  149.382996  138.570007  139.880005  415984992  "
      ]
     },
     "execution_count": 84,
     "metadata": {},
     "output_type": "execute_result"
    }
   ],
   "source": [
    "# Review our combined portfolio for Monte Carlo Simulations\n",
    "crypto_portfolio_df.head()"
   ]
  },
  {
   "cell_type": "code",
   "execution_count": 85,
   "id": "f3c88737-fd94-4981-bbae-5bdfb23efc60",
   "metadata": {},
   "outputs": [
    {
     "ename": "NameError",
     "evalue": "name 'MCSimulation' is not defined",
     "output_type": "error",
     "traceback": [
      "\u001b[1;31m---------------------------------------------------------------------------\u001b[0m",
      "\u001b[1;31mNameError\u001b[0m                                 Traceback (most recent call last)",
      "\u001b[1;32m~\\AppData\\Local\\Temp\\ipykernel_27332\\2507755169.py\u001b[0m in \u001b[0;36m<module>\u001b[1;34m\u001b[0m\n\u001b[0;32m      6\u001b[0m \u001b[1;33m\u001b[0m\u001b[0m\n\u001b[0;32m      7\u001b[0m \u001b[1;31m# Crypto Portfolio Simulations\u001b[0m\u001b[1;33m\u001b[0m\u001b[1;33m\u001b[0m\u001b[1;33m\u001b[0m\u001b[0m\n\u001b[1;32m----> 8\u001b[1;33m crypto_portfolio_MC = MCSimulation(\n\u001b[0m\u001b[0;32m      9\u001b[0m     \u001b[0mportfolio_data\u001b[0m \u001b[1;33m=\u001b[0m \u001b[0mcrypto_portfolio_df\u001b[0m\u001b[1;33m,\u001b[0m\u001b[1;33m\u001b[0m\u001b[1;33m\u001b[0m\u001b[0m\n\u001b[0;32m     10\u001b[0m     \u001b[0mweights\u001b[0m \u001b[1;33m=\u001b[0m \u001b[0mcrypto_portfolio_weights\u001b[0m\u001b[1;33m,\u001b[0m\u001b[1;33m\u001b[0m\u001b[1;33m\u001b[0m\u001b[0m\n",
      "\u001b[1;31mNameError\u001b[0m: name 'MCSimulation' is not defined"
     ]
    }
   ],
   "source": [
    "# Set number of simulations\n",
    "num_sims = 1000\n",
    "\n",
    "# Configure a Monte Carlo simulation to forecast 5 years of daily returns\n",
    "# Since crypto can be traded every day the number of trading days is equal to 365 and we have data for 5 years\n",
    "\n",
    "# Crypto Portfolio Simulations\n",
    "crypto_portfolio_MC = MCSimulation(\n",
    "    portfolio_data = crypto_portfolio_df,\n",
    "    weights = crypto_portfolio_weights,\n",
    "    num_simulation = num_sims,\n",
    "    num_trading_days = 365*5\n",
    ")"
   ]
  },
  {
   "cell_type": "code",
   "execution_count": 86,
   "id": "bad103e1-715d-4903-b45c-732b17e5adf9",
   "metadata": {},
   "outputs": [
    {
     "ename": "NameError",
     "evalue": "name 'crypto_portfolio_MC' is not defined",
     "output_type": "error",
     "traceback": [
      "\u001b[1;31m---------------------------------------------------------------------------\u001b[0m",
      "\u001b[1;31mNameError\u001b[0m                                 Traceback (most recent call last)",
      "\u001b[1;32m~\\AppData\\Local\\Temp\\ipykernel_27332\\2745982471.py\u001b[0m in \u001b[0;36m<module>\u001b[1;34m\u001b[0m\n\u001b[0;32m      1\u001b[0m \u001b[1;31m# Perform Monte Carlo simulations\u001b[0m\u001b[1;33m\u001b[0m\u001b[1;33m\u001b[0m\u001b[1;33m\u001b[0m\u001b[0m\n\u001b[1;32m----> 2\u001b[1;33m \u001b[0mcrypto_portfolio_MC\u001b[0m\u001b[1;33m.\u001b[0m\u001b[0mcalc_cumulative_return\u001b[0m\u001b[1;33m(\u001b[0m\u001b[1;33m)\u001b[0m\u001b[1;33m\u001b[0m\u001b[1;33m\u001b[0m\u001b[0m\n\u001b[0m",
      "\u001b[1;31mNameError\u001b[0m: name 'crypto_portfolio_MC' is not defined"
     ]
    }
   ],
   "source": [
    "# Perform Monte Carlo simulations\n",
    "crypto_portfolio_MC.calc_cumulative_return()"
   ]
  },
  {
   "cell_type": "code",
   "execution_count": null,
   "id": "41349381-4355-46f5-b1dd-81c7a4f7f3a5",
   "metadata": {},
   "outputs": [],
   "source": [
    "# Display outputs\n",
    "line_plot = crypto_portfolio_MC.plot_simulation()"
   ]
  },
  {
   "cell_type": "code",
   "execution_count": null,
   "id": "46d843e1-027e-4aad-97fd-b9f67a5c3f26",
   "metadata": {},
   "outputs": [],
   "source": [
    "crypto_portfolio_MC.plot_distribution()"
   ]
  },
  {
   "cell_type": "code",
   "execution_count": null,
   "id": "6036d576-c057-436d-bc1c-a7d34770e487",
   "metadata": {},
   "outputs": [],
   "source": [
    "crypto_portfolio_simulated_returns_data = {\n",
    "    \"mean\": list(crypto_portfolio_MC.simulated_return.mean(axis=1)),\n",
    "    \"median\": list(crypto_portfolio_MC.simulated_return.median(axis=1)),\n",
    "    \"min\": list(crypto_portfolio_MC.simulated_return.min(axis=1)),\n",
    "    \"max\": list(crypto_portfolio_MC.simulated_return.max(axis=1))\n",
    "}\n",
    "\n",
    "# Create a DataFrame with the summary statistics\n",
    "crypto_portfolio_simulated_returns = pd.DataFrame(crypto_portfolio_simulated_returns_data)\n",
    "\n",
    "# Display sample data\n",
    "crypto_portfolio_simulated_returns.head()"
   ]
  },
  {
   "cell_type": "code",
   "execution_count": null,
   "id": "6c8b5200-cb3f-4d45-b18d-566c19cb41a9",
   "metadata": {},
   "outputs": [],
   "source": [
    "# Using the `plot` function to visually analyze BTC cumulative returns over the next 5 years\n",
    "# (Plot both mean and median forecasted cumulative return)\n",
    "crypto_portfolio_simulated_returns[['mean', 'median']].plot(title=\"Simulated Cumulative Return Behavior of Chosen Crypto Portfolio Over the Next 5 Years\")"
   ]
  },
  {
   "cell_type": "code",
   "execution_count": null,
   "id": "d7f605d6-4a1e-4d06-b63b-80544848039d",
   "metadata": {},
   "outputs": [],
   "source": [
    "# Multiply an initial investment by the daily returns of simulative crypto price to return the progression of daily returns in terms of money\n",
    "cumulative_pnl_crypto_portfolio = initial_investment * crypto_portfolio_simulated_returns\n",
    "\n",
    "# Display sample data\n",
    "cumulative_pnl_crypto_portfolio.head()"
   ]
  },
  {
   "cell_type": "code",
   "execution_count": null,
   "id": "238d8814-ac4a-4408-9af1-9c6c3b6d75e6",
   "metadata": {},
   "outputs": [],
   "source": [
    "# plot of the simulated profits/losses\n",
    "cumulative_pnl_crypto_portfolio[['mean','median']].plot(title=\"Simulated Outcomes Behavior of BTC-USD Stock Over the Next 5 Years\");"
   ]
  },
  {
   "cell_type": "code",
   "execution_count": null,
   "id": "36e85297-9246-41e7-84ad-76013c5f6ae3",
   "metadata": {},
   "outputs": [],
   "source": [
    "# Fetch summary statistics from the Monte Carlo simulation results\n",
    "tbl_crypto_portfolio = crypto_portfolio_MC.summarize_cumulative_return()\n",
    "print(tbl_crypto_portfolio)"
   ]
  },
  {
   "cell_type": "code",
   "execution_count": null,
   "id": "7e814f35-2cdd-4033-98f9-2c58ce35342f",
   "metadata": {},
   "outputs": [],
   "source": [
    "# Use the lower and upper `95%` confidence intervals to calculate the range of the possible outcomes of our $10,000 investments in BTC-USD\n",
    "ci_lower_crypto_portfolio = round(tbl_crypto_portfolio[8]*initial_investment,2)\n",
    "ci_upper_crypto_portfolio = round(tbl_crypto_portfolio[9]*initial_investment,2)\n",
    "\n",
    "# Print results\n",
    "print(f\"There is a 95% chance that an initial investment of $10,000 in BTC\"\n",
    "      f\" over the next 5 years will end within in the range of\"\n",
    "      f\" ${ci_lower_crypto_portfolio} and ${ci_upper_crypto_portfolio}.\")"
   ]
  },
  {
   "cell_type": "code",
   "execution_count": null,
   "id": "65bcac8b-0245-4faf-ad2b-830108d5e7cb",
   "metadata": {},
   "outputs": [],
   "source": []
  },
  {
   "cell_type": "markdown",
   "id": "dcb27c08-4961-4d9c-b99a-0d06444e3eb8",
   "metadata": {},
   "source": [
    "# Comparing the output of the Random Forest Clacifier with the Monte Carlo"
   ]
  },
  {
   "cell_type": "code",
   "execution_count": null,
   "id": "e512a217-0e73-4b16-a486-5897a865f4cc",
   "metadata": {},
   "outputs": [],
   "source": []
  },
  {
   "cell_type": "code",
   "execution_count": null,
   "id": "ae951eb8-9f77-4ec7-a2ce-6f262062961e",
   "metadata": {},
   "outputs": [],
   "source": []
  },
  {
   "cell_type": "code",
   "execution_count": null,
   "id": "854a55e9-d2b1-43c6-b99c-db8ccaef8cea",
   "metadata": {},
   "outputs": [],
   "source": []
  },
  {
   "cell_type": "markdown",
   "id": "6cffd666-d87e-473a-a925-e43844826846",
   "metadata": {
    "tags": []
   },
   "source": [
    "# This sections enables updates to be sent to a phone number as a text message - ROSHAN TO UPDATE"
   ]
  },
  {
   "cell_type": "code",
   "execution_count": null,
   "id": "f16d2c52-adb8-4d67-a3e3-0ba3812e79a4",
   "metadata": {},
   "outputs": [],
   "source": [
    "# Crafting the text message\n",
    "\n"
   ]
  },
  {
   "cell_type": "code",
   "execution_count": null,
   "id": "e21170f8-fa03-401b-9616-02040210ad05",
   "metadata": {},
   "outputs": [],
   "source": []
  },
  {
   "cell_type": "code",
   "execution_count": null,
   "id": "87d639e5-65d9-48b2-907d-3add2479955b",
   "metadata": {},
   "outputs": [],
   "source": []
  },
  {
   "cell_type": "code",
   "execution_count": null,
   "id": "5e4c6d02-a562-4231-8982-3a15dd11286e",
   "metadata": {},
   "outputs": [],
   "source": []
  },
  {
   "cell_type": "code",
   "execution_count": null,
   "id": "6dd17420-718a-4b2f-9645-1d302b30a356",
   "metadata": {},
   "outputs": [],
   "source": []
  },
  {
   "cell_type": "markdown",
   "id": "629295d0-9a24-43d8-bbc4-44a7feba6cd4",
   "metadata": {},
   "source": [
    "# ARCHIVE:"
   ]
  },
  {
   "cell_type": "code",
   "execution_count": null,
   "id": "c6d56201-5afe-4697-af43-224073c6ba00",
   "metadata": {},
   "outputs": [],
   "source": [
    "# Call APIs\n",
    "from dotenv import load_dotenv\n",
    "load_dotenv()"
   ]
  },
  {
   "cell_type": "code",
   "execution_count": null,
   "id": "2c8cf8e7-21b3-463a-a158-98cf4de010f1",
   "metadata": {
    "tags": []
   },
   "outputs": [],
   "source": [
    "# api to get the cryptocurrency\n",
    "\n",
    "from requests import Request, Session\n",
    "from requests.exceptions import ConnectionError, Timeout, TooManyRedirects\n",
    "import json\n",
    "\n",
    "url = 'https://pro-api.coinmarketcap.com/v1/cryptocurrency/listings/latest'\n",
    "parameters = {\n",
    "  'start':'1',\n",
    "  'limit':'1000',\n",
    "  'convert':'USD'\n",
    "}\n",
    "headers = {\n",
    "  'Accepts': 'application/json',\n",
    "  'X-CMC_PRO_API_KEY': 'b501ea40-d99a-46da-b59b-591ea7f91f70',\n",
    "}\n",
    "\n",
    "session = Session()\n",
    "session.headers.update(headers)\n",
    "\n",
    "try:\n",
    "  response = session.get(url, params=parameters)\n",
    "  data = json.loads(response.text)\n",
    "  print(data)\n",
    "except (ConnectionError, Timeout, TooManyRedirects) as e:\n",
    "  print(e)\n",
    "  "
   ]
  },
  {
   "cell_type": "code",
   "execution_count": null,
   "id": "47494470-7cda-4f78-811b-be1051780e99",
   "metadata": {},
   "outputs": [],
   "source": [
    "# Define variables\n",
    "# Set the ticker\n",
    "crypto_tickers = []\n",
    "\n",
    "# Set timeframe to \"1Day\"\n",
    "timeframe = \"1Day\"\n",
    "\n",
    "# Set start and end datetimes\n",
    "start_date =\n",
    "end_date ="
   ]
  },
  {
   "cell_type": "code",
   "execution_count": null,
   "id": "96208505-ffde-4766-a765-5bf34d8a9f81",
   "metadata": {},
   "outputs": [],
   "source": [
    "# Take input parameters for Monte Carlo simulations\n",
    "ticker_data = api.get_bars(\n",
    "    ticker,\n",
    "    timeframe,\n",
    "    start = start_date,\n",
    "    end = end_date\n",
    ").df\n"
   ]
  },
  {
   "cell_type": "code",
   "execution_count": null,
   "id": "97e8893a-359a-426a-b554-c42860aa467c",
   "metadata": {},
   "outputs": [],
   "source": []
  }
 ],
 "metadata": {
  "kernelspec": {
   "display_name": "dev",
   "language": "python",
   "name": "dev"
  },
  "language_info": {
   "codemirror_mode": {
    "name": "ipython",
    "version": 3
   },
   "file_extension": ".py",
   "mimetype": "text/x-python",
   "name": "python",
   "nbconvert_exporter": "python",
   "pygments_lexer": "ipython3",
   "version": "3.7.13"
  }
 },
 "nbformat": 4,
 "nbformat_minor": 5
}
